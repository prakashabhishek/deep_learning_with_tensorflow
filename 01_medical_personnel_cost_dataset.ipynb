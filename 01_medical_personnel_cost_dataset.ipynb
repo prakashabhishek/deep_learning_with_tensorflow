{
  "nbformat": 4,
  "nbformat_minor": 0,
  "metadata": {
    "colab": {
      "name": "01_medical_personnel_cost_dataset.ipynb",
      "provenance": [],
      "collapsed_sections": [],
      "mount_file_id": "188C6M3CdDetjM4nT-mjzdaWxWCQjDtaE",
      "authorship_tag": "ABX9TyM7JxV8ETuYgN4bohVjgZOw",
      "include_colab_link": true
    },
    "kernelspec": {
      "name": "python3",
      "display_name": "Python 3"
    },
    "language_info": {
      "name": "python"
    }
  },
  "cells": [
    {
      "cell_type": "markdown",
      "metadata": {
        "id": "view-in-github",
        "colab_type": "text"
      },
      "source": [
        "<a href=\"https://colab.research.google.com/github/prakashabhishek/tensorflow_course_udemy/blob/main/01_medical_personnel_cost_dataset.ipynb\" target=\"_parent\"><img src=\"https://colab.research.google.com/assets/colab-badge.svg\" alt=\"Open In Colab\"/></a>"
      ]
    },
    {
      "cell_type": "code",
      "metadata": {
        "colab": {
          "base_uri": "https://localhost:8080/"
        },
        "id": "qdYlVhVj4sXN",
        "outputId": "a26d8351-8d06-4345-e339-b98542fa40bd"
      },
      "source": [
        "import numpy as np\n",
        "import pandas as pd\n",
        "import os\n",
        "\n",
        "import tensorflow as tf\n",
        "print(tf.__version__)\n",
        "\n",
        "from sklearn.model_selection import train_test_split"
      ],
      "execution_count": 1,
      "outputs": [
        {
          "output_type": "stream",
          "text": [
            "2.4.1\n"
          ],
          "name": "stdout"
        }
      ]
    },
    {
      "cell_type": "code",
      "metadata": {
        "colab": {
          "base_uri": "https://localhost:8080/"
        },
        "id": "Irq97tQ244hb",
        "outputId": "5f099d97-9e39-45a5-9dee-149777371a15"
      },
      "source": [
        "data = pd.read_csv('/content/drive/MyDrive/practice datasets/insurance.csv')\n",
        "data.shape"
      ],
      "execution_count": 35,
      "outputs": [
        {
          "output_type": "execute_result",
          "data": {
            "text/plain": [
              "(1338, 7)"
            ]
          },
          "metadata": {
            "tags": []
          },
          "execution_count": 35
        }
      ]
    },
    {
      "cell_type": "code",
      "metadata": {
        "colab": {
          "base_uri": "https://localhost:8080/",
          "height": 204
        },
        "id": "g_Qj3LBy5Vec",
        "outputId": "42291147-4cc4-4179-a7cd-f5ab8f5275f6"
      },
      "source": [
        "data.head()"
      ],
      "execution_count": 3,
      "outputs": [
        {
          "output_type": "execute_result",
          "data": {
            "text/html": [
              "<div>\n",
              "<style scoped>\n",
              "    .dataframe tbody tr th:only-of-type {\n",
              "        vertical-align: middle;\n",
              "    }\n",
              "\n",
              "    .dataframe tbody tr th {\n",
              "        vertical-align: top;\n",
              "    }\n",
              "\n",
              "    .dataframe thead th {\n",
              "        text-align: right;\n",
              "    }\n",
              "</style>\n",
              "<table border=\"1\" class=\"dataframe\">\n",
              "  <thead>\n",
              "    <tr style=\"text-align: right;\">\n",
              "      <th></th>\n",
              "      <th>age</th>\n",
              "      <th>sex</th>\n",
              "      <th>bmi</th>\n",
              "      <th>children</th>\n",
              "      <th>smoker</th>\n",
              "      <th>region</th>\n",
              "      <th>charges</th>\n",
              "    </tr>\n",
              "  </thead>\n",
              "  <tbody>\n",
              "    <tr>\n",
              "      <th>0</th>\n",
              "      <td>19</td>\n",
              "      <td>female</td>\n",
              "      <td>27.900</td>\n",
              "      <td>0</td>\n",
              "      <td>yes</td>\n",
              "      <td>southwest</td>\n",
              "      <td>16884.92400</td>\n",
              "    </tr>\n",
              "    <tr>\n",
              "      <th>1</th>\n",
              "      <td>18</td>\n",
              "      <td>male</td>\n",
              "      <td>33.770</td>\n",
              "      <td>1</td>\n",
              "      <td>no</td>\n",
              "      <td>southeast</td>\n",
              "      <td>1725.55230</td>\n",
              "    </tr>\n",
              "    <tr>\n",
              "      <th>2</th>\n",
              "      <td>28</td>\n",
              "      <td>male</td>\n",
              "      <td>33.000</td>\n",
              "      <td>3</td>\n",
              "      <td>no</td>\n",
              "      <td>southeast</td>\n",
              "      <td>4449.46200</td>\n",
              "    </tr>\n",
              "    <tr>\n",
              "      <th>3</th>\n",
              "      <td>33</td>\n",
              "      <td>male</td>\n",
              "      <td>22.705</td>\n",
              "      <td>0</td>\n",
              "      <td>no</td>\n",
              "      <td>northwest</td>\n",
              "      <td>21984.47061</td>\n",
              "    </tr>\n",
              "    <tr>\n",
              "      <th>4</th>\n",
              "      <td>32</td>\n",
              "      <td>male</td>\n",
              "      <td>28.880</td>\n",
              "      <td>0</td>\n",
              "      <td>no</td>\n",
              "      <td>northwest</td>\n",
              "      <td>3866.85520</td>\n",
              "    </tr>\n",
              "  </tbody>\n",
              "</table>\n",
              "</div>"
            ],
            "text/plain": [
              "   age     sex     bmi  children smoker     region      charges\n",
              "0   19  female  27.900         0    yes  southwest  16884.92400\n",
              "1   18    male  33.770         1     no  southeast   1725.55230\n",
              "2   28    male  33.000         3     no  southeast   4449.46200\n",
              "3   33    male  22.705         0     no  northwest  21984.47061\n",
              "4   32    male  28.880         0     no  northwest   3866.85520"
            ]
          },
          "metadata": {
            "tags": []
          },
          "execution_count": 3
        }
      ]
    },
    {
      "cell_type": "code",
      "metadata": {
        "colab": {
          "base_uri": "https://localhost:8080/"
        },
        "id": "zHiUlw695Wpe",
        "outputId": "68f7d2e6-47ff-4ec5-80c0-17183a3d6622"
      },
      "source": [
        "data.isna().sum()"
      ],
      "execution_count": 4,
      "outputs": [
        {
          "output_type": "execute_result",
          "data": {
            "text/plain": [
              "age         0\n",
              "sex         0\n",
              "bmi         0\n",
              "children    0\n",
              "smoker      0\n",
              "region      0\n",
              "charges     0\n",
              "dtype: int64"
            ]
          },
          "metadata": {
            "tags": []
          },
          "execution_count": 4
        }
      ]
    },
    {
      "cell_type": "code",
      "metadata": {
        "colab": {
          "base_uri": "https://localhost:8080/"
        },
        "id": "yUxOs9_t5aIP",
        "outputId": "d4b07d66-10b0-4c22-aba1-e221b4b3ae3f"
      },
      "source": [
        "data_encoded = pd.get_dummies(data)\n",
        "data_encoded.shape"
      ],
      "execution_count": 37,
      "outputs": [
        {
          "output_type": "execute_result",
          "data": {
            "text/plain": [
              "(1338, 12)"
            ]
          },
          "metadata": {
            "tags": []
          },
          "execution_count": 37
        }
      ]
    },
    {
      "cell_type": "code",
      "metadata": {
        "colab": {
          "base_uri": "https://localhost:8080/"
        },
        "id": "LMX9wzME5-Kh",
        "outputId": "349f51cf-272d-484d-ef25-783921079cac"
      },
      "source": [
        "X, y = data_encoded.drop('charges', axis = 1), data_encoded['charges']\n",
        "\n",
        "x_train, x_test, y_train, y_test = train_test_split(X, y , random_state = 42, test_size = 0.2)\n",
        "\n",
        "print(x_train.shape, x_test.shape)"
      ],
      "execution_count": 49,
      "outputs": [
        {
          "output_type": "stream",
          "text": [
            "(1070, 11) (268, 11)\n"
          ],
          "name": "stdout"
        }
      ]
    },
    {
      "cell_type": "code",
      "metadata": {
        "id": "sm5oefxV6jdV",
        "colab": {
          "base_uri": "https://localhost:8080/"
        },
        "outputId": "17c97196-555b-4cca-d6c5-457131162cca"
      },
      "source": [
        "# set random seed\n",
        "tf.random.set_seed(42)\n",
        "\n",
        "# Build model\n",
        "model = tf.keras.Sequential(layers= [\n",
        "                                     tf.keras.layers.Dense(10, activation= 'relu', input_shape = (11,)),\n",
        "                                     tf.keras.layers.Dense(1)\n",
        "])\n",
        "\n",
        "model.compile(loss = tf.keras.losses.mae,\n",
        "              optimizer = tf.keras.optimizers.SGD(),\n",
        "              metrics = ['mae', 'mse'])\n",
        "\n",
        "model.summary()"
      ],
      "execution_count": 7,
      "outputs": [
        {
          "output_type": "stream",
          "text": [
            "Model: \"sequential\"\n",
            "_________________________________________________________________\n",
            "Layer (type)                 Output Shape              Param #   \n",
            "=================================================================\n",
            "dense (Dense)                (None, 10)                120       \n",
            "_________________________________________________________________\n",
            "dense_1 (Dense)              (None, 1)                 11        \n",
            "=================================================================\n",
            "Total params: 131\n",
            "Trainable params: 131\n",
            "Non-trainable params: 0\n",
            "_________________________________________________________________\n"
          ],
          "name": "stdout"
        }
      ]
    },
    {
      "cell_type": "code",
      "metadata": {
        "colab": {
          "base_uri": "https://localhost:8080/"
        },
        "id": "sYr0mEIGQpvJ",
        "outputId": "d16c4fba-e572-4140-e45a-581e87f53c01"
      },
      "source": [
        "history = model.fit(x_train, y_train, epochs= 100)"
      ],
      "execution_count": 8,
      "outputs": [
        {
          "output_type": "stream",
          "text": [
            "Epoch 1/100\n",
            "34/34 [==============================] - 0s 2ms/step - loss: 10325.6570 - mae: 10325.6570 - mse: 236285598.6286\n",
            "Epoch 2/100\n",
            "34/34 [==============================] - 0s 1ms/step - loss: 7685.0309 - mae: 7685.0309 - mse: 168261018.0571\n",
            "Epoch 3/100\n",
            "34/34 [==============================] - 0s 2ms/step - loss: 7058.7300 - mae: 7058.7300 - mse: 145819893.0286\n",
            "Epoch 4/100\n",
            "34/34 [==============================] - 0s 1ms/step - loss: 8029.2307 - mae: 8029.2307 - mse: 186422000.9143\n",
            "Epoch 5/100\n",
            "34/34 [==============================] - 0s 1ms/step - loss: 7703.0983 - mae: 7703.0983 - mse: 161149023.7714\n",
            "Epoch 6/100\n",
            "34/34 [==============================] - 0s 1ms/step - loss: 7600.2184 - mae: 7600.2184 - mse: 165649319.5429\n",
            "Epoch 7/100\n",
            "34/34 [==============================] - 0s 2ms/step - loss: 7667.6600 - mae: 7667.6600 - mse: 170697483.8857\n",
            "Epoch 8/100\n",
            "34/34 [==============================] - 0s 1ms/step - loss: 7772.9164 - mae: 7772.9164 - mse: 162471122.2857\n",
            "Epoch 9/100\n",
            "34/34 [==============================] - 0s 1ms/step - loss: 7736.5711 - mae: 7736.5711 - mse: 160151296.0000\n",
            "Epoch 10/100\n",
            "34/34 [==============================] - 0s 2ms/step - loss: 8152.4106 - mae: 8152.4106 - mse: 181740202.9714\n",
            "Epoch 11/100\n",
            "34/34 [==============================] - 0s 1ms/step - loss: 7763.0895 - mae: 7763.0895 - mse: 164935996.8000\n",
            "Epoch 12/100\n",
            "34/34 [==============================] - 0s 1ms/step - loss: 7576.9803 - mae: 7576.9803 - mse: 160599722.5143\n",
            "Epoch 13/100\n",
            "34/34 [==============================] - 0s 1ms/step - loss: 8198.3943 - mae: 8198.3943 - mse: 169565622.8571\n",
            "Epoch 14/100\n",
            "34/34 [==============================] - 0s 1ms/step - loss: 7649.1865 - mae: 7649.1865 - mse: 163844900.5714\n",
            "Epoch 15/100\n",
            "34/34 [==============================] - 0s 1ms/step - loss: 7905.1667 - mae: 7905.1667 - mse: 166166929.3714\n",
            "Epoch 16/100\n",
            "34/34 [==============================] - 0s 1ms/step - loss: 8331.7016 - mae: 8331.7016 - mse: 185177443.2000\n",
            "Epoch 17/100\n",
            "34/34 [==============================] - 0s 1ms/step - loss: 7164.4609 - mae: 7164.4609 - mse: 148753928.0000\n",
            "Epoch 18/100\n",
            "34/34 [==============================] - 0s 1ms/step - loss: 8084.2691 - mae: 8084.2691 - mse: 166923539.2000\n",
            "Epoch 19/100\n",
            "34/34 [==============================] - 0s 2ms/step - loss: 7700.7578 - mae: 7700.7578 - mse: 171581789.7143\n",
            "Epoch 20/100\n",
            "34/34 [==============================] - 0s 1ms/step - loss: 7750.0874 - mae: 7750.0874 - mse: 158514450.7429\n",
            "Epoch 21/100\n",
            "34/34 [==============================] - 0s 1ms/step - loss: 6741.6006 - mae: 6741.6006 - mse: 135575699.4286\n",
            "Epoch 22/100\n",
            "34/34 [==============================] - 0s 1ms/step - loss: 7301.7149 - mae: 7301.7149 - mse: 143177069.4857\n",
            "Epoch 23/100\n",
            "34/34 [==============================] - 0s 1ms/step - loss: 7637.3860 - mae: 7637.3860 - mse: 154051753.1429\n",
            "Epoch 24/100\n",
            "34/34 [==============================] - 0s 1ms/step - loss: 7414.7033 - mae: 7414.7033 - mse: 151764587.4286\n",
            "Epoch 25/100\n",
            "34/34 [==============================] - 0s 1ms/step - loss: 8053.7951 - mae: 8053.7951 - mse: 163762948.5714\n",
            "Epoch 26/100\n",
            "34/34 [==============================] - 0s 1ms/step - loss: 7351.8182 - mae: 7351.8182 - mse: 144073275.4286\n",
            "Epoch 27/100\n",
            "34/34 [==============================] - 0s 1ms/step - loss: 7463.0415 - mae: 7463.0415 - mse: 146586236.1143\n",
            "Epoch 28/100\n",
            "34/34 [==============================] - 0s 1ms/step - loss: 7939.0597 - mae: 7939.0597 - mse: 172826930.7429\n",
            "Epoch 29/100\n",
            "34/34 [==============================] - 0s 1ms/step - loss: 7393.4189 - mae: 7393.4189 - mse: 146453533.4857\n",
            "Epoch 30/100\n",
            "34/34 [==============================] - 0s 1ms/step - loss: 7710.1641 - mae: 7710.1641 - mse: 156560850.7429\n",
            "Epoch 31/100\n",
            "34/34 [==============================] - 0s 1ms/step - loss: 8337.8376 - mae: 8337.8376 - mse: 184872872.6857\n",
            "Epoch 32/100\n",
            "34/34 [==============================] - 0s 1ms/step - loss: 7657.9827 - mae: 7657.9827 - mse: 148956497.6000\n",
            "Epoch 33/100\n",
            "34/34 [==============================] - 0s 2ms/step - loss: 7664.4117 - mae: 7664.4117 - mse: 157506824.0000\n",
            "Epoch 34/100\n",
            "34/34 [==============================] - 0s 1ms/step - loss: 7438.7039 - mae: 7438.7039 - mse: 149357237.4857\n",
            "Epoch 35/100\n",
            "34/34 [==============================] - 0s 1ms/step - loss: 7369.1341 - mae: 7369.1341 - mse: 155096453.9429\n",
            "Epoch 36/100\n",
            "34/34 [==============================] - 0s 1ms/step - loss: 7302.2285 - mae: 7302.2285 - mse: 150023891.8857\n",
            "Epoch 37/100\n",
            "34/34 [==============================] - 0s 1ms/step - loss: 7799.3110 - mae: 7799.3110 - mse: 159260973.2571\n",
            "Epoch 38/100\n",
            "34/34 [==============================] - 0s 1ms/step - loss: 7211.4147 - mae: 7211.4147 - mse: 149344099.8857\n",
            "Epoch 39/100\n",
            "34/34 [==============================] - 0s 1ms/step - loss: 7678.5255 - mae: 7678.5255 - mse: 169498354.7429\n",
            "Epoch 40/100\n",
            "34/34 [==============================] - 0s 1ms/step - loss: 7374.6374 - mae: 7374.6374 - mse: 159635573.9429\n",
            "Epoch 41/100\n",
            "34/34 [==============================] - 0s 2ms/step - loss: 7803.8685 - mae: 7803.8685 - mse: 160608896.9143\n",
            "Epoch 42/100\n",
            "34/34 [==============================] - 0s 1ms/step - loss: 7749.2871 - mae: 7749.2871 - mse: 159612112.4571\n",
            "Epoch 43/100\n",
            "34/34 [==============================] - 0s 2ms/step - loss: 7875.2760 - mae: 7875.2760 - mse: 157170685.7143\n",
            "Epoch 44/100\n",
            "34/34 [==============================] - 0s 1ms/step - loss: 6988.8310 - mae: 6988.8310 - mse: 148018495.7714\n",
            "Epoch 45/100\n",
            "34/34 [==============================] - 0s 1ms/step - loss: 7199.6520 - mae: 7199.6520 - mse: 149042607.0857\n",
            "Epoch 46/100\n",
            "34/34 [==============================] - 0s 1ms/step - loss: 7207.3347 - mae: 7207.3347 - mse: 143265258.9714\n",
            "Epoch 47/100\n",
            "34/34 [==============================] - 0s 1ms/step - loss: 7926.8454 - mae: 7926.8454 - mse: 162897563.8857\n",
            "Epoch 48/100\n",
            "34/34 [==============================] - 0s 1ms/step - loss: 7307.8450 - mae: 7307.8450 - mse: 147745814.8571\n",
            "Epoch 49/100\n",
            "34/34 [==============================] - 0s 1ms/step - loss: 7126.6266 - mae: 7126.6266 - mse: 133281327.5429\n",
            "Epoch 50/100\n",
            "34/34 [==============================] - 0s 1ms/step - loss: 7441.5190 - mae: 7441.5190 - mse: 159890968.6857\n",
            "Epoch 51/100\n",
            "34/34 [==============================] - 0s 1ms/step - loss: 7566.9474 - mae: 7566.9474 - mse: 157136102.4000\n",
            "Epoch 52/100\n",
            "34/34 [==============================] - 0s 1ms/step - loss: 7734.0697 - mae: 7734.0697 - mse: 164207108.1143\n",
            "Epoch 53/100\n",
            "34/34 [==============================] - 0s 1ms/step - loss: 7066.1781 - mae: 7066.1781 - mse: 146663642.0571\n",
            "Epoch 54/100\n",
            "34/34 [==============================] - 0s 1ms/step - loss: 7250.6312 - mae: 7250.6312 - mse: 149085243.6571\n",
            "Epoch 55/100\n",
            "34/34 [==============================] - 0s 2ms/step - loss: 7068.6580 - mae: 7068.6580 - mse: 141321523.8857\n",
            "Epoch 56/100\n",
            "34/34 [==============================] - 0s 1ms/step - loss: 7102.6865 - mae: 7102.6865 - mse: 137445637.7143\n",
            "Epoch 57/100\n",
            "34/34 [==============================] - 0s 1ms/step - loss: 7601.0722 - mae: 7601.0722 - mse: 160792768.4571\n",
            "Epoch 58/100\n",
            "34/34 [==============================] - 0s 1ms/step - loss: 7422.8026 - mae: 7422.8026 - mse: 157072617.6000\n",
            "Epoch 59/100\n",
            "34/34 [==============================] - 0s 1ms/step - loss: 7316.7734 - mae: 7316.7734 - mse: 143740829.4857\n",
            "Epoch 60/100\n",
            "34/34 [==============================] - 0s 1ms/step - loss: 7197.2127 - mae: 7197.2127 - mse: 148993844.5714\n",
            "Epoch 61/100\n",
            "34/34 [==============================] - 0s 1ms/step - loss: 7851.4468 - mae: 7851.4468 - mse: 162727955.6571\n",
            "Epoch 62/100\n",
            "34/34 [==============================] - 0s 1ms/step - loss: 7384.0654 - mae: 7384.0654 - mse: 149476530.9714\n",
            "Epoch 63/100\n",
            "34/34 [==============================] - 0s 1ms/step - loss: 7636.7569 - mae: 7636.7569 - mse: 149108931.2000\n",
            "Epoch 64/100\n",
            "34/34 [==============================] - 0s 1ms/step - loss: 6773.9886 - mae: 6773.9886 - mse: 130654898.0571\n",
            "Epoch 65/100\n",
            "34/34 [==============================] - 0s 1ms/step - loss: 7611.3689 - mae: 7611.3689 - mse: 151875990.8571\n",
            "Epoch 66/100\n",
            "34/34 [==============================] - 0s 1ms/step - loss: 6820.4318 - mae: 6820.4318 - mse: 141224404.5714\n",
            "Epoch 67/100\n",
            "34/34 [==============================] - 0s 2ms/step - loss: 7456.0097 - mae: 7456.0097 - mse: 145305317.4857\n",
            "Epoch 68/100\n",
            "34/34 [==============================] - 0s 1ms/step - loss: 7550.2417 - mae: 7550.2417 - mse: 149642521.9429\n",
            "Epoch 69/100\n",
            "34/34 [==============================] - 0s 2ms/step - loss: 7601.9644 - mae: 7601.9644 - mse: 150767749.0286\n",
            "Epoch 70/100\n",
            "34/34 [==============================] - 0s 1ms/step - loss: 6636.6410 - mae: 6636.6410 - mse: 131168172.8000\n",
            "Epoch 71/100\n",
            "34/34 [==============================] - 0s 1ms/step - loss: 7059.0417 - mae: 7059.0417 - mse: 142945299.8857\n",
            "Epoch 72/100\n",
            "34/34 [==============================] - 0s 1ms/step - loss: 6920.5236 - mae: 6920.5236 - mse: 134917221.7143\n",
            "Epoch 73/100\n",
            "34/34 [==============================] - 0s 1ms/step - loss: 7631.6390 - mae: 7631.6390 - mse: 154445286.8571\n",
            "Epoch 74/100\n",
            "34/34 [==============================] - 0s 1ms/step - loss: 6997.6834 - mae: 6997.6834 - mse: 145733426.2857\n",
            "Epoch 75/100\n",
            "34/34 [==============================] - 0s 1ms/step - loss: 7587.1541 - mae: 7587.1541 - mse: 157737424.4571\n",
            "Epoch 76/100\n",
            "34/34 [==============================] - 0s 1ms/step - loss: 6681.5155 - mae: 6681.5155 - mse: 130693848.4571\n",
            "Epoch 77/100\n",
            "34/34 [==============================] - 0s 1ms/step - loss: 7682.6994 - mae: 7682.6994 - mse: 156278460.8000\n",
            "Epoch 78/100\n",
            "34/34 [==============================] - 0s 1ms/step - loss: 6877.4566 - mae: 6877.4566 - mse: 133410409.3714\n",
            "Epoch 79/100\n",
            "34/34 [==============================] - 0s 1ms/step - loss: 6607.0527 - mae: 6607.0527 - mse: 115275495.8857\n",
            "Epoch 80/100\n",
            "34/34 [==============================] - 0s 1ms/step - loss: 6736.3720 - mae: 6736.3720 - mse: 120426505.6000\n",
            "Epoch 81/100\n",
            "34/34 [==============================] - 0s 2ms/step - loss: 7124.3197 - mae: 7124.3197 - mse: 142524537.1429\n",
            "Epoch 82/100\n",
            "34/34 [==============================] - 0s 1ms/step - loss: 7956.1472 - mae: 7956.1472 - mse: 152356468.5714\n",
            "Epoch 83/100\n",
            "34/34 [==============================] - 0s 1ms/step - loss: 7440.1519 - mae: 7440.1519 - mse: 142447540.3429\n",
            "Epoch 84/100\n",
            "34/34 [==============================] - 0s 1ms/step - loss: 7405.4552 - mae: 7405.4552 - mse: 141347224.4571\n",
            "Epoch 85/100\n",
            "34/34 [==============================] - 0s 1ms/step - loss: 6879.7611 - mae: 6879.7611 - mse: 129111828.4571\n",
            "Epoch 86/100\n",
            "34/34 [==============================] - 0s 1ms/step - loss: 7957.6636 - mae: 7957.6636 - mse: 160438756.1143\n",
            "Epoch 87/100\n",
            "34/34 [==============================] - 0s 1ms/step - loss: 6853.2030 - mae: 6853.2030 - mse: 136619519.0857\n",
            "Epoch 88/100\n",
            "34/34 [==============================] - 0s 1ms/step - loss: 7574.0995 - mae: 7574.0995 - mse: 149435931.4286\n",
            "Epoch 89/100\n",
            "34/34 [==============================] - 0s 1ms/step - loss: 7328.5294 - mae: 7328.5294 - mse: 140092111.3143\n",
            "Epoch 90/100\n",
            "34/34 [==============================] - 0s 1ms/step - loss: 7737.1327 - mae: 7737.1327 - mse: 159944929.3714\n",
            "Epoch 91/100\n",
            "34/34 [==============================] - 0s 1ms/step - loss: 7261.4896 - mae: 7261.4896 - mse: 142769231.3143\n",
            "Epoch 92/100\n",
            "34/34 [==============================] - 0s 1ms/step - loss: 7577.4839 - mae: 7577.4839 - mse: 146561385.3714\n",
            "Epoch 93/100\n",
            "34/34 [==============================] - 0s 1ms/step - loss: 7002.8310 - mae: 7002.8310 - mse: 132199592.4571\n",
            "Epoch 94/100\n",
            "34/34 [==============================] - 0s 1ms/step - loss: 6907.8897 - mae: 6907.8897 - mse: 128604513.6000\n",
            "Epoch 95/100\n",
            "34/34 [==============================] - 0s 1ms/step - loss: 7732.2622 - mae: 7732.2622 - mse: 143204549.2571\n",
            "Epoch 96/100\n",
            "34/34 [==============================] - 0s 1ms/step - loss: 7482.1085 - mae: 7482.1085 - mse: 146557713.3714\n",
            "Epoch 97/100\n",
            "34/34 [==============================] - 0s 2ms/step - loss: 6899.0006 - mae: 6899.0006 - mse: 127431496.4571\n",
            "Epoch 98/100\n",
            "34/34 [==============================] - 0s 1ms/step - loss: 7095.8790 - mae: 7095.8790 - mse: 134623264.9143\n",
            "Epoch 99/100\n",
            "34/34 [==============================] - 0s 1ms/step - loss: 7062.5735 - mae: 7062.5735 - mse: 129601154.1714\n",
            "Epoch 100/100\n",
            "34/34 [==============================] - 0s 1ms/step - loss: 6987.5481 - mae: 6987.5481 - mse: 131991970.0571\n"
          ],
          "name": "stdout"
        }
      ]
    },
    {
      "cell_type": "code",
      "metadata": {
        "colab": {
          "base_uri": "https://localhost:8080/"
        },
        "id": "5IXN6r8gQyJh",
        "outputId": "4f2cf506-6087-4052-8869-3ca4e719fcc1"
      },
      "source": [
        "model.evaluate(x_test, y_test)"
      ],
      "execution_count": 9,
      "outputs": [
        {
          "output_type": "stream",
          "text": [
            "9/9 [==============================] - 0s 2ms/step - loss: 8326.4238 - mae: 8326.4238 - mse: 110007472.0000\n"
          ],
          "name": "stdout"
        },
        {
          "output_type": "execute_result",
          "data": {
            "text/plain": [
              "[8326.423828125, 8326.423828125, 110007472.0]"
            ]
          },
          "metadata": {
            "tags": []
          },
          "execution_count": 9
        }
      ]
    },
    {
      "cell_type": "code",
      "metadata": {
        "colab": {
          "base_uri": "https://localhost:8080/"
        },
        "id": "WWBO_StvRMPs",
        "outputId": "71e40b1d-1430-4f88-e40d-ed549e91275c"
      },
      "source": [
        "# right now the model is not working well, let's try and improve the model\n",
        "# improving the number of hidden layers and units and training for a longer duration \n",
        "\n",
        "# set random seed\n",
        "tf.random.set_seed(42)\n",
        "\n",
        "# Build model\n",
        "model_1 = tf.keras.Sequential(layers= [\n",
        "                                       tf.keras.layers.Dense(100, input_shape = (11,)),\n",
        "                                       tf.keras.layers.Dense(10),\n",
        "                                       tf.keras.layers.Dense(1)\n",
        "])\n",
        "\n",
        "model_1.compile(loss = tf.keras.losses.mae,\n",
        "                optimizer = tf.keras.optimizers.Adam(),\n",
        "                metrics = ['mae'])\n",
        "\n",
        "model_1.summary()\n"
      ],
      "execution_count": 47,
      "outputs": [
        {
          "output_type": "stream",
          "text": [
            "Model: \"sequential_6\"\n",
            "_________________________________________________________________\n",
            "Layer (type)                 Output Shape              Param #   \n",
            "=================================================================\n",
            "dense_17 (Dense)             (None, 100)               1200      \n",
            "_________________________________________________________________\n",
            "dense_18 (Dense)             (None, 10)                1010      \n",
            "_________________________________________________________________\n",
            "dense_19 (Dense)             (None, 1)                 11        \n",
            "=================================================================\n",
            "Total params: 2,221\n",
            "Trainable params: 2,221\n",
            "Non-trainable params: 0\n",
            "_________________________________________________________________\n"
          ],
          "name": "stdout"
        }
      ]
    },
    {
      "cell_type": "code",
      "metadata": {
        "colab": {
          "base_uri": "https://localhost:8080/"
        },
        "id": "gYmsNRYMSIUP",
        "outputId": "2c527abc-36e1-4a94-ab88-134364af9471"
      },
      "source": [
        "history_1 = model_1.fit(x_train, y_train, epochs = 100)"
      ],
      "execution_count": 50,
      "outputs": [
        {
          "output_type": "stream",
          "text": [
            "Epoch 1/100\n",
            "34/34 [==============================] - 0s 2ms/step - loss: 13251.7400 - mae: 13251.7400\n",
            "Epoch 2/100\n",
            "34/34 [==============================] - 0s 2ms/step - loss: 12768.7726 - mae: 12768.7726\n",
            "Epoch 3/100\n",
            "34/34 [==============================] - 0s 2ms/step - loss: 12248.2855 - mae: 12248.2855\n",
            "Epoch 4/100\n",
            "34/34 [==============================] - 0s 2ms/step - loss: 12353.0242 - mae: 12353.0242\n",
            "Epoch 5/100\n",
            "34/34 [==============================] - 0s 1ms/step - loss: 11243.3972 - mae: 11243.3972\n",
            "Epoch 6/100\n",
            "34/34 [==============================] - 0s 1ms/step - loss: 9718.5255 - mae: 9718.5255\n",
            "Epoch 7/100\n",
            "34/34 [==============================] - 0s 1ms/step - loss: 8354.8474 - mae: 8354.8474\n",
            "Epoch 8/100\n",
            "34/34 [==============================] - 0s 1ms/step - loss: 7732.2964 - mae: 7732.2964\n",
            "Epoch 9/100\n",
            "34/34 [==============================] - 0s 1ms/step - loss: 7537.6737 - mae: 7537.6737\n",
            "Epoch 10/100\n",
            "34/34 [==============================] - 0s 1ms/step - loss: 7652.7184 - mae: 7652.7184\n",
            "Epoch 11/100\n",
            "34/34 [==============================] - 0s 1ms/step - loss: 7802.4481 - mae: 7802.4481\n",
            "Epoch 12/100\n",
            "34/34 [==============================] - 0s 1ms/step - loss: 7370.3458 - mae: 7370.3458\n",
            "Epoch 13/100\n",
            "34/34 [==============================] - 0s 2ms/step - loss: 7651.9583 - mae: 7651.9583\n",
            "Epoch 14/100\n",
            "34/34 [==============================] - 0s 2ms/step - loss: 7404.5587 - mae: 7404.5587\n",
            "Epoch 15/100\n",
            "34/34 [==============================] - 0s 1ms/step - loss: 7639.0614 - mae: 7639.0614\n",
            "Epoch 16/100\n",
            "34/34 [==============================] - 0s 1ms/step - loss: 7569.4714 - mae: 7569.4714\n",
            "Epoch 17/100\n",
            "34/34 [==============================] - 0s 1ms/step - loss: 6946.3936 - mae: 6946.3936\n",
            "Epoch 18/100\n",
            "34/34 [==============================] - 0s 1ms/step - loss: 7137.7241 - mae: 7137.7241\n",
            "Epoch 19/100\n",
            "34/34 [==============================] - 0s 1ms/step - loss: 7165.3119 - mae: 7165.3119\n",
            "Epoch 20/100\n",
            "34/34 [==============================] - 0s 1ms/step - loss: 7063.6223 - mae: 7063.6223\n",
            "Epoch 21/100\n",
            "34/34 [==============================] - 0s 1ms/step - loss: 6472.3189 - mae: 6472.3189\n",
            "Epoch 22/100\n",
            "34/34 [==============================] - 0s 1ms/step - loss: 6674.0546 - mae: 6674.0546\n",
            "Epoch 23/100\n",
            "34/34 [==============================] - 0s 1ms/step - loss: 7112.2982 - mae: 7112.2982\n",
            "Epoch 24/100\n",
            "34/34 [==============================] - 0s 2ms/step - loss: 6838.1526 - mae: 6838.1526\n",
            "Epoch 25/100\n",
            "34/34 [==============================] - 0s 1ms/step - loss: 7496.9558 - mae: 7496.9558\n",
            "Epoch 26/100\n",
            "34/34 [==============================] - 0s 1ms/step - loss: 6718.1682 - mae: 6718.1682\n",
            "Epoch 27/100\n",
            "34/34 [==============================] - 0s 2ms/step - loss: 7107.2977 - mae: 7107.2977\n",
            "Epoch 28/100\n",
            "34/34 [==============================] - 0s 1ms/step - loss: 7357.2010 - mae: 7357.2010\n",
            "Epoch 29/100\n",
            "34/34 [==============================] - 0s 1ms/step - loss: 6668.5721 - mae: 6668.5721\n",
            "Epoch 30/100\n",
            "34/34 [==============================] - 0s 2ms/step - loss: 7119.4991 - mae: 7119.4991\n",
            "Epoch 31/100\n",
            "34/34 [==============================] - 0s 2ms/step - loss: 7360.1235 - mae: 7360.1235\n",
            "Epoch 32/100\n",
            "34/34 [==============================] - 0s 1ms/step - loss: 6817.2566 - mae: 6817.2566\n",
            "Epoch 33/100\n",
            "34/34 [==============================] - 0s 2ms/step - loss: 6991.0289 - mae: 6991.0289\n",
            "Epoch 34/100\n",
            "34/34 [==============================] - 0s 1ms/step - loss: 6829.4905 - mae: 6829.4905\n",
            "Epoch 35/100\n",
            "34/34 [==============================] - 0s 1ms/step - loss: 6895.2916 - mae: 6895.2916\n",
            "Epoch 36/100\n",
            "34/34 [==============================] - 0s 1ms/step - loss: 6762.5129 - mae: 6762.5129\n",
            "Epoch 37/100\n",
            "34/34 [==============================] - 0s 1ms/step - loss: 6910.4815 - mae: 6910.4815\n",
            "Epoch 38/100\n",
            "34/34 [==============================] - 0s 1ms/step - loss: 6405.0325 - mae: 6405.0325\n",
            "Epoch 39/100\n",
            "34/34 [==============================] - 0s 1ms/step - loss: 6799.7921 - mae: 6799.7921\n",
            "Epoch 40/100\n",
            "34/34 [==============================] - 0s 2ms/step - loss: 6696.0544 - mae: 6696.0544\n",
            "Epoch 41/100\n",
            "34/34 [==============================] - 0s 1ms/step - loss: 6632.0484 - mae: 6632.0484\n",
            "Epoch 42/100\n",
            "34/34 [==============================] - 0s 2ms/step - loss: 6501.1589 - mae: 6501.1589\n",
            "Epoch 43/100\n",
            "34/34 [==============================] - 0s 1ms/step - loss: 6518.8881 - mae: 6518.8881\n",
            "Epoch 44/100\n",
            "34/34 [==============================] - 0s 1ms/step - loss: 6287.3744 - mae: 6287.3744\n",
            "Epoch 45/100\n",
            "34/34 [==============================] - 0s 2ms/step - loss: 6331.2561 - mae: 6331.2561\n",
            "Epoch 46/100\n",
            "34/34 [==============================] - 0s 1ms/step - loss: 6080.3169 - mae: 6080.3169\n",
            "Epoch 47/100\n",
            "34/34 [==============================] - 0s 1ms/step - loss: 6665.8195 - mae: 6665.8195\n",
            "Epoch 48/100\n",
            "34/34 [==============================] - 0s 1ms/step - loss: 6424.2352 - mae: 6424.2352\n",
            "Epoch 49/100\n",
            "34/34 [==============================] - 0s 2ms/step - loss: 6154.8287 - mae: 6154.8287\n",
            "Epoch 50/100\n",
            "34/34 [==============================] - 0s 1ms/step - loss: 6426.9840 - mae: 6426.9840\n",
            "Epoch 51/100\n",
            "34/34 [==============================] - 0s 1ms/step - loss: 6338.3259 - mae: 6338.3259\n",
            "Epoch 52/100\n",
            "34/34 [==============================] - 0s 2ms/step - loss: 6335.6011 - mae: 6335.6011\n",
            "Epoch 53/100\n",
            "34/34 [==============================] - 0s 2ms/step - loss: 5995.7962 - mae: 5995.7962\n",
            "Epoch 54/100\n",
            "34/34 [==============================] - 0s 1ms/step - loss: 6431.7972 - mae: 6431.7972\n",
            "Epoch 55/100\n",
            "34/34 [==============================] - 0s 2ms/step - loss: 6224.0661 - mae: 6224.0661\n",
            "Epoch 56/100\n",
            "34/34 [==============================] - 0s 1ms/step - loss: 6289.4112 - mae: 6289.4112\n",
            "Epoch 57/100\n",
            "34/34 [==============================] - 0s 1ms/step - loss: 6578.3136 - mae: 6578.3136\n",
            "Epoch 58/100\n",
            "34/34 [==============================] - 0s 1ms/step - loss: 6365.6013 - mae: 6365.6013\n",
            "Epoch 59/100\n",
            "34/34 [==============================] - 0s 2ms/step - loss: 5914.7983 - mae: 5914.7983\n",
            "Epoch 60/100\n",
            "34/34 [==============================] - 0s 2ms/step - loss: 6239.8723 - mae: 6239.8723\n",
            "Epoch 61/100\n",
            "34/34 [==============================] - 0s 2ms/step - loss: 6751.6415 - mae: 6751.6415\n",
            "Epoch 62/100\n",
            "34/34 [==============================] - 0s 2ms/step - loss: 6350.5861 - mae: 6350.5861\n",
            "Epoch 63/100\n",
            "34/34 [==============================] - 0s 2ms/step - loss: 6374.7378 - mae: 6374.7378\n",
            "Epoch 64/100\n",
            "34/34 [==============================] - 0s 2ms/step - loss: 5877.7617 - mae: 5877.7617\n",
            "Epoch 65/100\n",
            "34/34 [==============================] - 0s 2ms/step - loss: 6260.5318 - mae: 6260.5318\n",
            "Epoch 66/100\n",
            "34/34 [==============================] - 0s 2ms/step - loss: 6007.1747 - mae: 6007.1747\n",
            "Epoch 67/100\n",
            "34/34 [==============================] - 0s 2ms/step - loss: 6106.7938 - mae: 6106.7938\n",
            "Epoch 68/100\n",
            "34/34 [==============================] - 0s 2ms/step - loss: 6035.6668 - mae: 6035.6668\n",
            "Epoch 69/100\n",
            "34/34 [==============================] - 0s 1ms/step - loss: 6523.5435 - mae: 6523.5435\n",
            "Epoch 70/100\n",
            "34/34 [==============================] - 0s 1ms/step - loss: 5708.9528 - mae: 5708.9528\n",
            "Epoch 71/100\n",
            "34/34 [==============================] - 0s 2ms/step - loss: 6110.2170 - mae: 6110.2170\n",
            "Epoch 72/100\n",
            "34/34 [==============================] - 0s 1ms/step - loss: 5773.3151 - mae: 5773.3151\n",
            "Epoch 73/100\n",
            "34/34 [==============================] - 0s 2ms/step - loss: 6297.5183 - mae: 6297.5183\n",
            "Epoch 74/100\n",
            "34/34 [==============================] - 0s 1ms/step - loss: 6112.9393 - mae: 6112.9393\n",
            "Epoch 75/100\n",
            "34/34 [==============================] - 0s 2ms/step - loss: 6449.7250 - mae: 6449.7250\n",
            "Epoch 76/100\n",
            "34/34 [==============================] - 0s 2ms/step - loss: 5688.1448 - mae: 5688.1448\n",
            "Epoch 77/100\n",
            "34/34 [==============================] - 0s 1ms/step - loss: 6402.3397 - mae: 6402.3397\n",
            "Epoch 78/100\n",
            "34/34 [==============================] - 0s 1ms/step - loss: 5499.5553 - mae: 5499.5553\n",
            "Epoch 79/100\n",
            "34/34 [==============================] - 0s 1ms/step - loss: 5108.3478 - mae: 5108.3478\n",
            "Epoch 80/100\n",
            "34/34 [==============================] - 0s 1ms/step - loss: 5226.6397 - mae: 5226.6397\n",
            "Epoch 81/100\n",
            "34/34 [==============================] - 0s 2ms/step - loss: 5817.3261 - mae: 5817.3261\n",
            "Epoch 82/100\n",
            "34/34 [==============================] - 0s 2ms/step - loss: 6548.7323 - mae: 6548.7323\n",
            "Epoch 83/100\n",
            "34/34 [==============================] - 0s 2ms/step - loss: 5722.6891 - mae: 5722.6891\n",
            "Epoch 84/100\n",
            "34/34 [==============================] - 0s 2ms/step - loss: 5570.2336 - mae: 5570.2336\n",
            "Epoch 85/100\n",
            "34/34 [==============================] - 0s 2ms/step - loss: 5121.8587 - mae: 5121.8587\n",
            "Epoch 86/100\n",
            "34/34 [==============================] - 0s 2ms/step - loss: 5889.9362 - mae: 5889.9362\n",
            "Epoch 87/100\n",
            "34/34 [==============================] - 0s 2ms/step - loss: 5472.2751 - mae: 5472.2751\n",
            "Epoch 88/100\n",
            "34/34 [==============================] - 0s 2ms/step - loss: 5770.0215 - mae: 5770.0215\n",
            "Epoch 89/100\n",
            "34/34 [==============================] - 0s 1ms/step - loss: 5392.7422 - mae: 5392.7422\n",
            "Epoch 90/100\n",
            "34/34 [==============================] - 0s 2ms/step - loss: 5951.3922 - mae: 5951.3922\n",
            "Epoch 91/100\n",
            "34/34 [==============================] - 0s 2ms/step - loss: 5577.1110 - mae: 5577.1110\n",
            "Epoch 92/100\n",
            "34/34 [==============================] - 0s 2ms/step - loss: 5633.8429 - mae: 5633.8429\n",
            "Epoch 93/100\n",
            "34/34 [==============================] - 0s 2ms/step - loss: 5209.0318 - mae: 5209.0318\n",
            "Epoch 94/100\n",
            "34/34 [==============================] - 0s 2ms/step - loss: 5018.4434 - mae: 5018.4434\n",
            "Epoch 95/100\n",
            "34/34 [==============================] - 0s 1ms/step - loss: 5419.2086 - mae: 5419.2086\n",
            "Epoch 96/100\n",
            "34/34 [==============================] - 0s 2ms/step - loss: 5547.8981 - mae: 5547.8981\n",
            "Epoch 97/100\n",
            "34/34 [==============================] - 0s 1ms/step - loss: 4931.7091 - mae: 4931.7091\n",
            "Epoch 98/100\n",
            "34/34 [==============================] - 0s 1ms/step - loss: 4912.5433 - mae: 4912.5433\n",
            "Epoch 99/100\n",
            "34/34 [==============================] - 0s 2ms/step - loss: 4650.0259 - mae: 4650.0259\n",
            "Epoch 100/100\n",
            "34/34 [==============================] - 0s 1ms/step - loss: 4770.1368 - mae: 4770.1368\n"
          ],
          "name": "stdout"
        }
      ]
    },
    {
      "cell_type": "code",
      "metadata": {
        "colab": {
          "base_uri": "https://localhost:8080/"
        },
        "id": "aemuI7ucTJlH",
        "outputId": "147ca1b4-6f1c-4018-816e-440468005c39"
      },
      "source": [
        "model_1.evaluate(x_test, y_test)"
      ],
      "execution_count": 51,
      "outputs": [
        {
          "output_type": "stream",
          "text": [
            "9/9 [==============================] - 0s 2ms/step - loss: 4924.3477 - mae: 4924.3477\n"
          ],
          "name": "stdout"
        },
        {
          "output_type": "execute_result",
          "data": {
            "text/plain": [
              "[4924.34765625, 4924.34765625]"
            ]
          },
          "metadata": {
            "tags": []
          },
          "execution_count": 51
        }
      ]
    },
    {
      "cell_type": "markdown",
      "metadata": {
        "id": "TJLaw_0tX9a_"
      },
      "source": [
        "### Rebuilding the scaled training dataset"
      ]
    },
    {
      "cell_type": "code",
      "metadata": {
        "id": "WYn7h0B7TMiJ"
      },
      "source": [
        "# Pre processing the dataset, normalization and standardization\n",
        "\n",
        "from sklearn.compose import make_column_transformer\n",
        "from sklearn.preprocessing import StandardScaler, MinMaxScaler, OneHotEncoder\n",
        "\n",
        "\n",
        "ct = make_column_transformer((MinMaxScaler(), ['age', 'bmi', 'children']),\n",
        "                             (OneHotEncoder(handle_unknown= 'ignore'), ['sex', 'smoker', 'region']))\n",
        "\n",
        "X, y = data.drop('charges', axis = 1), data['charges']\n",
        "x_train, x_test, y_train, y_test = train_test_split(X, y, random_state = 42, test_size = 0.2)\n",
        "\n",
        "# Fit the columns transformer to our training data\n",
        "ct.fit(x_train)\n",
        "\n",
        "# Transform the training and test dataset\n",
        "x_train_scaled = ct.transform(x_train)\n",
        "x_test_scaled = ct.transform(x_test)"
      ],
      "execution_count": 52,
      "outputs": []
    },
    {
      "cell_type": "code",
      "metadata": {
        "colab": {
          "base_uri": "https://localhost:8080/"
        },
        "id": "NpJ1nywwWxZH",
        "outputId": "1debe3dc-291f-47bd-8476-13c5039e9075"
      },
      "source": [
        "# Running the model on scaled dataset\n",
        "\n",
        "# set random seed\n",
        "tf.random.set_seed(42)\n",
        "\n",
        "# Build model\n",
        "model_2 = tf.keras.Sequential(layers= [\n",
        "                                       tf.keras.layers.Dense(100, input_shape = (11,)),\n",
        "                                       tf.keras.layers.Dense(10),\n",
        "                                       tf.keras.layers.Dense(1)\n",
        "])\n",
        "\n",
        "model_2.compile(loss = tf.keras.losses.mae,\n",
        "                optimizer = tf.keras.optimizers.Adam(),\n",
        "                metrics = ['mae'])\n",
        "\n",
        "model_2.summary()\n"
      ],
      "execution_count": 53,
      "outputs": [
        {
          "output_type": "stream",
          "text": [
            "Model: \"sequential_7\"\n",
            "_________________________________________________________________\n",
            "Layer (type)                 Output Shape              Param #   \n",
            "=================================================================\n",
            "dense_20 (Dense)             (None, 100)               1200      \n",
            "_________________________________________________________________\n",
            "dense_21 (Dense)             (None, 10)                1010      \n",
            "_________________________________________________________________\n",
            "dense_22 (Dense)             (None, 1)                 11        \n",
            "=================================================================\n",
            "Total params: 2,221\n",
            "Trainable params: 2,221\n",
            "Non-trainable params: 0\n",
            "_________________________________________________________________\n"
          ],
          "name": "stdout"
        }
      ]
    },
    {
      "cell_type": "code",
      "metadata": {
        "colab": {
          "base_uri": "https://localhost:8080/"
        },
        "id": "7_2dBkTNW6aM",
        "outputId": "6cf3852c-a3de-4d11-8255-be3b6471e2dc"
      },
      "source": [
        "history_2 = model_2.fit(x_train_scaled, y_train, epochs = 100)"
      ],
      "execution_count": 54,
      "outputs": [
        {
          "output_type": "stream",
          "text": [
            "Epoch 1/100\n",
            "34/34 [==============================] - 0s 1ms/step - loss: 13296.4671 - mae: 13296.4671\n",
            "Epoch 2/100\n",
            "34/34 [==============================] - 0s 1ms/step - loss: 12948.4245 - mae: 12948.4245\n",
            "Epoch 3/100\n",
            "34/34 [==============================] - 0s 2ms/step - loss: 12705.2201 - mae: 12705.2201\n",
            "Epoch 4/100\n",
            "34/34 [==============================] - 0s 1ms/step - loss: 13369.7395 - mae: 13369.7395\n",
            "Epoch 5/100\n",
            "34/34 [==============================] - 0s 2ms/step - loss: 13230.8567 - mae: 13230.8567\n",
            "Epoch 6/100\n",
            "34/34 [==============================] - 0s 1ms/step - loss: 12995.1999 - mae: 12995.1999\n",
            "Epoch 7/100\n",
            "34/34 [==============================] - 0s 1ms/step - loss: 12876.1059 - mae: 12876.1059\n",
            "Epoch 8/100\n",
            "34/34 [==============================] - 0s 1ms/step - loss: 13004.0395 - mae: 13004.0395\n",
            "Epoch 9/100\n",
            "34/34 [==============================] - 0s 1ms/step - loss: 12508.0465 - mae: 12508.0465\n",
            "Epoch 10/100\n",
            "34/34 [==============================] - 0s 2ms/step - loss: 12304.9941 - mae: 12304.9941\n",
            "Epoch 11/100\n",
            "34/34 [==============================] - 0s 1ms/step - loss: 12190.6080 - mae: 12190.6080\n",
            "Epoch 12/100\n",
            "34/34 [==============================] - 0s 1ms/step - loss: 10948.1238 - mae: 10948.1238\n",
            "Epoch 13/100\n",
            "34/34 [==============================] - 0s 1ms/step - loss: 11033.2710 - mae: 11033.2710\n",
            "Epoch 14/100\n",
            "34/34 [==============================] - 0s 2ms/step - loss: 10209.3786 - mae: 10209.3786\n",
            "Epoch 15/100\n",
            "34/34 [==============================] - 0s 1ms/step - loss: 9943.5374 - mae: 9943.5374\n",
            "Epoch 16/100\n",
            "34/34 [==============================] - 0s 1ms/step - loss: 9393.3773 - mae: 9393.3773\n",
            "Epoch 17/100\n",
            "34/34 [==============================] - 0s 1ms/step - loss: 8554.0274 - mae: 8554.0274\n",
            "Epoch 18/100\n",
            "34/34 [==============================] - 0s 1ms/step - loss: 8463.0888 - mae: 8463.0888\n",
            "Epoch 19/100\n",
            "34/34 [==============================] - 0s 1ms/step - loss: 8238.9919 - mae: 8238.9919\n",
            "Epoch 20/100\n",
            "34/34 [==============================] - 0s 1ms/step - loss: 7992.1423 - mae: 7992.1423\n",
            "Epoch 21/100\n",
            "34/34 [==============================] - 0s 1ms/step - loss: 7246.4891 - mae: 7246.4891\n",
            "Epoch 22/100\n",
            "34/34 [==============================] - 0s 2ms/step - loss: 7520.6745 - mae: 7520.6745\n",
            "Epoch 23/100\n",
            "34/34 [==============================] - 0s 2ms/step - loss: 7862.2013 - mae: 7862.2013\n",
            "Epoch 24/100\n",
            "34/34 [==============================] - 0s 1ms/step - loss: 7617.0075 - mae: 7617.0075\n",
            "Epoch 25/100\n",
            "34/34 [==============================] - 0s 2ms/step - loss: 8118.1869 - mae: 8118.1869\n",
            "Epoch 26/100\n",
            "34/34 [==============================] - 0s 2ms/step - loss: 7381.5776 - mae: 7381.5776\n",
            "Epoch 27/100\n",
            "34/34 [==============================] - 0s 2ms/step - loss: 7759.2990 - mae: 7759.2990\n",
            "Epoch 28/100\n",
            "34/34 [==============================] - 0s 2ms/step - loss: 7961.3148 - mae: 7961.3148\n",
            "Epoch 29/100\n",
            "34/34 [==============================] - 0s 2ms/step - loss: 7357.1594 - mae: 7357.1594\n",
            "Epoch 30/100\n",
            "34/34 [==============================] - 0s 2ms/step - loss: 7670.5824 - mae: 7670.5824\n",
            "Epoch 31/100\n",
            "34/34 [==============================] - 0s 2ms/step - loss: 7833.2158 - mae: 7833.2158\n",
            "Epoch 32/100\n",
            "34/34 [==============================] - 0s 2ms/step - loss: 7408.4353 - mae: 7408.4353\n",
            "Epoch 33/100\n",
            "34/34 [==============================] - 0s 1ms/step - loss: 7603.6621 - mae: 7603.6621\n",
            "Epoch 34/100\n",
            "34/34 [==============================] - 0s 1ms/step - loss: 7385.2734 - mae: 7385.2734\n",
            "Epoch 35/100\n",
            "34/34 [==============================] - 0s 1ms/step - loss: 7340.4551 - mae: 7340.4551\n",
            "Epoch 36/100\n",
            "34/34 [==============================] - 0s 2ms/step - loss: 7276.7009 - mae: 7276.7009\n",
            "Epoch 37/100\n",
            "34/34 [==============================] - 0s 1ms/step - loss: 7342.1807 - mae: 7342.1807\n",
            "Epoch 38/100\n",
            "34/34 [==============================] - 0s 1ms/step - loss: 6918.2718 - mae: 6918.2718\n",
            "Epoch 39/100\n",
            "34/34 [==============================] - 0s 2ms/step - loss: 7252.1240 - mae: 7252.1240\n",
            "Epoch 40/100\n",
            "34/34 [==============================] - 0s 2ms/step - loss: 7029.9498 - mae: 7029.9498\n",
            "Epoch 41/100\n",
            "34/34 [==============================] - 0s 1ms/step - loss: 6984.8112 - mae: 6984.8112\n",
            "Epoch 42/100\n",
            "34/34 [==============================] - 0s 1ms/step - loss: 6884.6928 - mae: 6884.6928\n",
            "Epoch 43/100\n",
            "34/34 [==============================] - 0s 1ms/step - loss: 6755.5828 - mae: 6755.5828\n",
            "Epoch 44/100\n",
            "34/34 [==============================] - 0s 2ms/step - loss: 6608.4541 - mae: 6608.4541\n",
            "Epoch 45/100\n",
            "34/34 [==============================] - 0s 2ms/step - loss: 6537.6250 - mae: 6537.6250\n",
            "Epoch 46/100\n",
            "34/34 [==============================] - 0s 1ms/step - loss: 6454.2749 - mae: 6454.2749\n",
            "Epoch 47/100\n",
            "34/34 [==============================] - 0s 2ms/step - loss: 6729.0266 - mae: 6729.0266\n",
            "Epoch 48/100\n",
            "34/34 [==============================] - 0s 2ms/step - loss: 6517.0466 - mae: 6517.0466\n",
            "Epoch 49/100\n",
            "34/34 [==============================] - 0s 2ms/step - loss: 6209.9380 - mae: 6209.9380\n",
            "Epoch 50/100\n",
            "34/34 [==============================] - 0s 1ms/step - loss: 6433.2527 - mae: 6433.2527\n",
            "Epoch 51/100\n",
            "34/34 [==============================] - 0s 2ms/step - loss: 6253.4749 - mae: 6253.4749\n",
            "Epoch 52/100\n",
            "34/34 [==============================] - 0s 1ms/step - loss: 6122.7599 - mae: 6122.7599\n",
            "Epoch 53/100\n",
            "34/34 [==============================] - 0s 1ms/step - loss: 5797.8437 - mae: 5797.8437\n",
            "Epoch 54/100\n",
            "34/34 [==============================] - 0s 1ms/step - loss: 6036.6884 - mae: 6036.6884\n",
            "Epoch 55/100\n",
            "34/34 [==============================] - 0s 1ms/step - loss: 5688.6436 - mae: 5688.6436\n",
            "Epoch 56/100\n",
            "34/34 [==============================] - 0s 1ms/step - loss: 5664.2595 - mae: 5664.2595\n",
            "Epoch 57/100\n",
            "34/34 [==============================] - 0s 2ms/step - loss: 5857.4061 - mae: 5857.4061\n",
            "Epoch 58/100\n",
            "34/34 [==============================] - 0s 2ms/step - loss: 5509.3852 - mae: 5509.3852\n",
            "Epoch 59/100\n",
            "34/34 [==============================] - 0s 1ms/step - loss: 5316.6016 - mae: 5316.6016\n",
            "Epoch 60/100\n",
            "34/34 [==============================] - 0s 1ms/step - loss: 5322.8677 - mae: 5322.8677\n",
            "Epoch 61/100\n",
            "34/34 [==============================] - 0s 1ms/step - loss: 5458.1975 - mae: 5458.1975\n",
            "Epoch 62/100\n",
            "34/34 [==============================] - 0s 2ms/step - loss: 5230.6231 - mae: 5230.6231\n",
            "Epoch 63/100\n",
            "34/34 [==============================] - 0s 2ms/step - loss: 5084.5996 - mae: 5084.5996\n",
            "Epoch 64/100\n",
            "34/34 [==============================] - 0s 2ms/step - loss: 4677.8217 - mae: 4677.8217\n",
            "Epoch 65/100\n",
            "34/34 [==============================] - 0s 2ms/step - loss: 4707.1110 - mae: 4707.1110\n",
            "Epoch 66/100\n",
            "34/34 [==============================] - 0s 2ms/step - loss: 4361.7458 - mae: 4361.7458\n",
            "Epoch 67/100\n",
            "34/34 [==============================] - 0s 2ms/step - loss: 4333.7879 - mae: 4333.7879\n",
            "Epoch 68/100\n",
            "34/34 [==============================] - 0s 1ms/step - loss: 4294.6888 - mae: 4294.6888\n",
            "Epoch 69/100\n",
            "34/34 [==============================] - 0s 1ms/step - loss: 4365.7155 - mae: 4365.7155\n",
            "Epoch 70/100\n",
            "34/34 [==============================] - 0s 1ms/step - loss: 3931.4924 - mae: 3931.4924\n",
            "Epoch 71/100\n",
            "34/34 [==============================] - 0s 1ms/step - loss: 4040.8881 - mae: 4040.8881\n",
            "Epoch 72/100\n",
            "34/34 [==============================] - 0s 1ms/step - loss: 3725.7781 - mae: 3725.7781\n",
            "Epoch 73/100\n",
            "34/34 [==============================] - 0s 1ms/step - loss: 4041.0183 - mae: 4041.0183\n",
            "Epoch 74/100\n",
            "34/34 [==============================] - 0s 1ms/step - loss: 3849.4077 - mae: 3849.4077\n",
            "Epoch 75/100\n",
            "34/34 [==============================] - 0s 1ms/step - loss: 4063.8180 - mae: 4063.8180\n",
            "Epoch 76/100\n",
            "34/34 [==============================] - 0s 2ms/step - loss: 3594.6083 - mae: 3594.6083\n",
            "Epoch 77/100\n",
            "34/34 [==============================] - 0s 1ms/step - loss: 3877.1156 - mae: 3877.1156\n",
            "Epoch 78/100\n",
            "34/34 [==============================] - 0s 2ms/step - loss: 3571.6357 - mae: 3571.6357\n",
            "Epoch 79/100\n",
            "34/34 [==============================] - 0s 1ms/step - loss: 3272.2002 - mae: 3272.2002\n",
            "Epoch 80/100\n",
            "34/34 [==============================] - 0s 1ms/step - loss: 3333.3793 - mae: 3333.3793\n",
            "Epoch 81/100\n",
            "34/34 [==============================] - 0s 2ms/step - loss: 3560.1417 - mae: 3560.1417\n",
            "Epoch 82/100\n",
            "34/34 [==============================] - 0s 1ms/step - loss: 4082.1635 - mae: 4082.1635\n",
            "Epoch 83/100\n",
            "34/34 [==============================] - 0s 1ms/step - loss: 3690.6050 - mae: 3690.6050\n",
            "Epoch 84/100\n",
            "34/34 [==============================] - 0s 1ms/step - loss: 3491.1416 - mae: 3491.1416\n",
            "Epoch 85/100\n",
            "34/34 [==============================] - 0s 1ms/step - loss: 3196.7644 - mae: 3196.7644\n",
            "Epoch 86/100\n",
            "34/34 [==============================] - 0s 2ms/step - loss: 3696.4115 - mae: 3696.4115\n",
            "Epoch 87/100\n",
            "34/34 [==============================] - 0s 2ms/step - loss: 3584.8877 - mae: 3584.8877\n",
            "Epoch 88/100\n",
            "34/34 [==============================] - 0s 2ms/step - loss: 3717.8066 - mae: 3717.8066\n",
            "Epoch 89/100\n",
            "34/34 [==============================] - 0s 2ms/step - loss: 3437.4367 - mae: 3437.4367\n",
            "Epoch 90/100\n",
            "34/34 [==============================] - 0s 2ms/step - loss: 3799.4690 - mae: 3799.4690\n",
            "Epoch 91/100\n",
            "34/34 [==============================] - 0s 1ms/step - loss: 3660.1360 - mae: 3660.1360\n",
            "Epoch 92/100\n",
            "34/34 [==============================] - 0s 2ms/step - loss: 3743.4218 - mae: 3743.4218\n",
            "Epoch 93/100\n",
            "34/34 [==============================] - 0s 2ms/step - loss: 3536.3569 - mae: 3536.3569\n",
            "Epoch 94/100\n",
            "34/34 [==============================] - 0s 2ms/step - loss: 3439.5847 - mae: 3439.5847\n",
            "Epoch 95/100\n",
            "34/34 [==============================] - 0s 2ms/step - loss: 3570.7316 - mae: 3570.7316\n",
            "Epoch 96/100\n",
            "34/34 [==============================] - 0s 1ms/step - loss: 3734.5113 - mae: 3734.5113\n",
            "Epoch 97/100\n",
            "34/34 [==============================] - 0s 1ms/step - loss: 3444.5726 - mae: 3444.5726\n",
            "Epoch 98/100\n",
            "34/34 [==============================] - 0s 2ms/step - loss: 3465.0855 - mae: 3465.0855\n",
            "Epoch 99/100\n",
            "34/34 [==============================] - 0s 2ms/step - loss: 3225.0306 - mae: 3225.0306\n",
            "Epoch 100/100\n",
            "34/34 [==============================] - 0s 1ms/step - loss: 3421.0633 - mae: 3421.0633\n"
          ],
          "name": "stdout"
        }
      ]
    },
    {
      "cell_type": "code",
      "metadata": {
        "colab": {
          "base_uri": "https://localhost:8080/"
        },
        "id": "fDdu2no_XSQQ",
        "outputId": "0e05a094-2a65-4978-838b-e8ca14a1c72a"
      },
      "source": [
        "model_2.evaluate(x_test_scaled, y_test)"
      ],
      "execution_count": 55,
      "outputs": [
        {
          "output_type": "stream",
          "text": [
            "9/9 [==============================] - 0s 2ms/step - loss: 3438.7844 - mae: 3438.7844\n"
          ],
          "name": "stdout"
        },
        {
          "output_type": "execute_result",
          "data": {
            "text/plain": [
              "[3438.784423828125, 3438.784423828125]"
            ]
          },
          "metadata": {
            "tags": []
          },
          "execution_count": 55
        }
      ]
    },
    {
      "cell_type": "code",
      "metadata": {
        "id": "Mg4Bk_UNZ68a"
      },
      "source": [
        ""
      ],
      "execution_count": 46,
      "outputs": []
    }
  ]
}