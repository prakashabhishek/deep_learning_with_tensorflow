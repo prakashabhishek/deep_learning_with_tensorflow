{
 "cells": [
  {
   "cell_type": "code",
   "execution_count": 1,
   "id": "a92dc413",
   "metadata": {},
   "outputs": [
    {
     "name": "stdout",
     "output_type": "stream",
     "text": [
      "INFO:tensorflow:Enabling eager execution\n",
      "INFO:tensorflow:Enabling v2 tensorshape\n",
      "INFO:tensorflow:Enabling resource variables\n",
      "INFO:tensorflow:Enabling tensor equality\n",
      "INFO:tensorflow:Enabling control flow v2\n",
      "Using tensorflow version: 2.5.0-rc2\n"
     ]
    }
   ],
   "source": [
    "from helper_fun import *\n",
    "\n",
    "pd.options.display.max_colwidth = 300"
   ]
  },
  {
   "cell_type": "code",
   "execution_count": 37,
   "id": "42a458be",
   "metadata": {},
   "outputs": [
    {
     "name": "stdout",
     "output_type": "stream",
     "text": [
      "Train dataset size: (6851, 5) \n",
      "Validation dataset size: (762, 5) \n",
      "Test dataset size: (3263, 4)\n"
     ]
    }
   ],
   "source": [
    "# Load and shuffle train dataset\n",
    "train_df = pd.read_csv('nlp_getting_started/train.csv')\n",
    "train_df = train_df.sample(frac= 1, random_state= 42)   \n",
    "train_df.reset_index(drop = True, inplace=True)\n",
    "\n",
    "# Split train dataset into train and validation dataset\n",
    "train_df, val_df = train_test_split(train_df, test_size = 0.1, random_state= 42)\n",
    "\n",
    "x_train, y_train = train_df.text.to_numpy(), train_df.target.to_numpy()\n",
    "x_val, y_val = val_df.text.to_numpy(), val_df.target.to_numpy()\n",
    "\n",
    "\n",
    "# Load test dataset\n",
    "test_df = pd.read_csv('nlp_getting_started/test.csv')\n",
    "x_test, y_test = train_df.text.to_numpy(), x_test.target.to_numpy()\n",
    "\n",
    "print(f'Train dataset size: {train_df.shape} \\nValidation dataset size: {val_df.shape} \\nTest dataset size: {test_df.shape}')"
   ]
  },
  {
   "cell_type": "code",
   "execution_count": 31,
   "id": "94eb2f5c",
   "metadata": {},
   "outputs": [
    {
     "data": {
      "text/plain": [
       "0    0.57034\n",
       "1    0.42966\n",
       "Name: target, dtype: float64"
      ]
     },
     "execution_count": 31,
     "metadata": {},
     "output_type": "execute_result"
    }
   ],
   "source": [
    "train_df['target'].value_counts(normalize = True)"
   ]
  },
  {
   "cell_type": "code",
   "execution_count": 21,
   "id": "1082d006",
   "metadata": {},
   "outputs": [
    {
     "data": {
      "text/html": [
       "<div>\n",
       "<style scoped>\n",
       "    .dataframe tbody tr th:only-of-type {\n",
       "        vertical-align: middle;\n",
       "    }\n",
       "\n",
       "    .dataframe tbody tr th {\n",
       "        vertical-align: top;\n",
       "    }\n",
       "\n",
       "    .dataframe thead th {\n",
       "        text-align: right;\n",
       "    }\n",
       "</style>\n",
       "<table border=\"1\" class=\"dataframe\">\n",
       "  <thead>\n",
       "    <tr style=\"text-align: right;\">\n",
       "      <th></th>\n",
       "      <th>text</th>\n",
       "    </tr>\n",
       "  </thead>\n",
       "  <tbody>\n",
       "    <tr>\n",
       "      <th>7164</th>\n",
       "      <td>the war on drugs has turned the U.S. into a WAR zone.</td>\n",
       "    </tr>\n",
       "    <tr>\n",
       "      <th>2922</th>\n",
       "      <td>Hundreds feared drowned as migrant boat capsizes off Libya http://t.co/7S1GfNEBgt</td>\n",
       "    </tr>\n",
       "    <tr>\n",
       "      <th>6713</th>\n",
       "      <td>OUN cancels Severe Thunderstorm Warning for Lincoln Logan Oklahoma [OK]  http://t.co/bTi8JAMFiu #WX</td>\n",
       "    </tr>\n",
       "    <tr>\n",
       "      <th>1589</th>\n",
       "      <td>Gulfport Energy - All-In Realizations Fall Off A Cliff http://t.co/CjuiGhBxyn</td>\n",
       "    </tr>\n",
       "    <tr>\n",
       "      <th>1217</th>\n",
       "      <td>Bradford. Back to doing what we do best. Burning down our own buildings. Read it and weep Leeds. https://t.co/OLnfzb86zb</td>\n",
       "    </tr>\n",
       "  </tbody>\n",
       "</table>\n",
       "</div>"
      ],
      "text/plain": [
       "                                                                                                                          text\n",
       "7164                                                                     the war on drugs has turned the U.S. into a WAR zone.\n",
       "2922                                         Hundreds feared drowned as migrant boat capsizes off Libya http://t.co/7S1GfNEBgt\n",
       "6713                       OUN cancels Severe Thunderstorm Warning for Lincoln Logan Oklahoma [OK]  http://t.co/bTi8JAMFiu #WX\n",
       "1589                                             Gulfport Energy - All-In Realizations Fall Off A Cliff http://t.co/CjuiGhBxyn\n",
       "1217  Bradford. Back to doing what we do best. Burning down our own buildings. Read it and weep Leeds. https://t.co/OLnfzb86zb"
      ]
     },
     "execution_count": 21,
     "metadata": {},
     "output_type": "execute_result"
    }
   ],
   "source": [
    "train_df[['text']].sample(5)"
   ]
  },
  {
   "cell_type": "code",
   "execution_count": 92,
   "id": "6f5d4267",
   "metadata": {},
   "outputs": [],
   "source": [
    "# Create text vectorization layer\n",
    "\n",
    "MAX_TOKENS = 1000\n",
    "LEN_OUTPUT = 15\n",
    "\n",
    "vectorize_layer = tf.keras.layers.experimental.preprocessing.TextVectorization(max_tokens = MAX_TOKENS,\n",
    "                                                                              standardize = 'lower_and_strip_punctuation',\n",
    "                                                                              split = 'whitespace',\n",
    "                                                                              ngrams = 2,\n",
    "                                                                              output_mode = 'int',\n",
    "                                                                              output_sequence_length = LEN_OUTPUT,\n",
    "                                                                              pad_to_max_tokens = True,\n",
    "                                                                              name = 'text_vectorizer')\n",
    "\n",
    "\n",
    "# Fit the text vectorizer to train sentences\n",
    "vectorize_layer.adapt(x_train)"
   ]
  },
  {
   "cell_type": "code",
   "execution_count": 112,
   "id": "90312067",
   "metadata": {},
   "outputs": [],
   "source": [
    "# Creating an embedding layer\n",
    "\n",
    "embedding = layers.Embedding(input_dim = 1000,\n",
    "                            output_dim = 128,\n",
    "                            input_length = 15)\n"
   ]
  },
  {
   "cell_type": "code",
   "execution_count": 117,
   "id": "84afe63b",
   "metadata": {},
   "outputs": [
    {
     "name": "stdout",
     "output_type": "stream",
     "text": [
      "Original: there is flood in bengaluru\n",
      "Vectorized version: [[ 76   9 262   4   1 868   1   1   1   0   0   0   0   0   0]]\n",
      "ewmbedded version: [[[ 0.02275309 -0.0320123  -0.01677699 ... -0.01873398 -0.01426294\n",
      "   -0.00757205]\n",
      "  [ 0.01179193 -0.00436978 -0.02596833 ...  0.02181014  0.02588617\n",
      "    0.03160607]\n",
      "  [-0.01564534 -0.00963364 -0.01600089 ... -0.00658482  0.01059706\n",
      "   -0.04818993]\n",
      "  ...\n",
      "  [-0.04114591  0.01486364 -0.02345952 ... -0.03580046 -0.03685781\n",
      "    0.01977808]\n",
      "  [-0.04114591  0.01486364 -0.02345952 ... -0.03580046 -0.03685781\n",
      "    0.01977808]\n",
      "  [-0.04114591  0.01486364 -0.02345952 ... -0.03580046 -0.03685781\n",
      "    0.01977808]]]\n"
     ]
    }
   ],
   "source": [
    "sample = [\"there is flood in bengaluru\"]\n",
    "print(f'Original: {sample[0]}')\n",
    "print(f'Vectorized version: {vectorize_layer(sample).numpy()}')\n",
    "print(f'ewmbedded version: {embedding(vectorize_layer(sample))}')"
   ]
  },
  {
   "cell_type": "code",
   "execution_count": 119,
   "id": "a5710610",
   "metadata": {},
   "outputs": [
    {
     "data": {
      "text/plain": [
       "<tf.Tensor: shape=(1, 15, 128), dtype=float32, numpy=\n",
       "array([[[ 0.02275309, -0.0320123 , -0.01677699, ..., -0.01873398,\n",
       "         -0.01426294, -0.00757205],\n",
       "        [-0.04114591,  0.01486364, -0.02345952, ..., -0.03580046,\n",
       "         -0.03685781,  0.01977808],\n",
       "        [-0.04114591,  0.01486364, -0.02345952, ..., -0.03580046,\n",
       "         -0.03685781,  0.01977808],\n",
       "        ...,\n",
       "        [-0.04114591,  0.01486364, -0.02345952, ..., -0.03580046,\n",
       "         -0.03685781,  0.01977808],\n",
       "        [-0.04114591,  0.01486364, -0.02345952, ..., -0.03580046,\n",
       "         -0.03685781,  0.01977808],\n",
       "        [-0.04114591,  0.01486364, -0.02345952, ..., -0.03580046,\n",
       "         -0.03685781,  0.01977808]]], dtype=float32)>"
      ]
     },
     "execution_count": 119,
     "metadata": {},
     "output_type": "execute_result"
    }
   ],
   "source": [
    "embedding(vectorize_layer(['there']))"
   ]
  },
  {
   "cell_type": "code",
   "execution_count": null,
   "id": "f5c9d525",
   "metadata": {},
   "outputs": [],
   "source": []
  },
  {
   "cell_type": "markdown",
   "id": "0256464f",
   "metadata": {},
   "source": [
    "# Modelling experiments to run\n",
    "\n",
    "* model_0: Naive bayes with tf-idf encoder (baseline model)\n",
    "* model_1: Feed forward neural network\n",
    "* model_2: LSTM\n",
    "* model_3: GRU\n",
    "* model_4: Bidirectional LSTM\n",
    "* model_5: 1-D CNN\n",
    "* model_6: Tensorflow Hub pretrained feature extractor\n",
    "* model_7: Tensorflow Hub pretrained feature extractor(10% data)"
   ]
  },
  {
   "cell_type": "markdown",
   "id": "95c7196a",
   "metadata": {},
   "source": [
    "### model_0: Naive bayes with tf-idf encoder (baseline model)"
   ]
  },
  {
   "cell_type": "code",
   "execution_count": 149,
   "id": "fb1a0635",
   "metadata": {},
   "outputs": [],
   "source": [
    "from sklearn.naive_bayes import GaussianNB, MultinomialNB\n",
    "from sklearn.feature_extraction.text import TfidfVectorizer\n",
    "from sklearn.metrics import accuracy_score, confusion_matrix, precision_recall_fscore_support\n",
    "from sklearn.pipeline import Pipeline"
   ]
  },
  {
   "cell_type": "code",
   "execution_count": 135,
   "id": "cbb982b0",
   "metadata": {},
   "outputs": [
    {
     "data": {
      "text/plain": [
       "Pipeline(steps=[('tfidf', TfidfVectorizer()), ('clf', MultinomialNB())])"
      ]
     },
     "execution_count": 135,
     "metadata": {},
     "output_type": "execute_result"
    }
   ],
   "source": [
    "# Create tokenizer and model as a pipeline\n",
    "model_0 = Pipeline([\n",
    "    (\"tfidf\", TfidfVectorizer()),\n",
    "    (\"clf\", MultinomialNB())\n",
    "])\n",
    "\n",
    "# Fit the model\n",
    "model_0.fit(x_train, y_train)"
   ]
  },
  {
   "cell_type": "code",
   "execution_count": 142,
   "id": "e6bb54e0",
   "metadata": {},
   "outputs": [
    {
     "name": "stdout",
     "output_type": "stream",
     "text": [
      "Our baseline model achieves accuracy of 79.27%\n"
     ]
    }
   ],
   "source": [
    "baseline_score = model_0.score(x_val, y_val)\n",
    "print(f\"Our baseline model achieves accuracy of {baseline_score*100:.2f}%\")"
   ]
  },
  {
   "cell_type": "code",
   "execution_count": 153,
   "id": "20a691bc",
   "metadata": {},
   "outputs": [
    {
     "data": {
      "text/plain": [
       "(array([0.74806202, 0.88617886]),\n",
       " array([0.93236715, 0.62643678]),\n",
       " array([0.83010753, 0.73400673]),\n",
       " array([414, 348], dtype=int64))"
      ]
     },
     "execution_count": 153,
     "metadata": {},
     "output_type": "execute_result"
    }
   ],
   "source": [
    "precision_recall_fscore_support(y_val,model_0.predict(x_val))"
   ]
  },
  {
   "cell_type": "code",
   "execution_count": 199,
   "id": "a4b89ad7",
   "metadata": {},
   "outputs": [
    {
     "data": {
      "text/plain": [
       "{'accuracy': 79.27, 'precision': 81.11, 'recall': 79.27, 'f1 score': 78.62}"
      ]
     },
     "execution_count": 199,
     "metadata": {},
     "output_type": "execute_result"
    }
   ],
   "source": [
    "y_pred =  model_0.predict(x_val)\n",
    "baseline_model_results = evaluate_model(y_val, y_pred)\n",
    "baseline_model_results"
   ]
  },
  {
   "cell_type": "markdown",
   "id": "716ab32d",
   "metadata": {},
   "source": [
    "# model_1: Feed forward neural network"
   ]
  },
  {
   "cell_type": "code",
   "execution_count": 161,
   "id": "633178cc",
   "metadata": {},
   "outputs": [],
   "source": [
    "tensorboard_log_dir = 'nlp_models'"
   ]
  },
  {
   "cell_type": "code",
   "execution_count": 180,
   "id": "87c6d1ee",
   "metadata": {},
   "outputs": [],
   "source": [
    "# Build model with Functional API\n",
    "inputs = layers.Input(shape= (1,), dtype= tf.string)\n",
    "\n",
    "x = vectorize_layer(inputs) # Vectorize the inputs\n",
    "x = embedding(x) # Create embedding \n",
    "x = layers.GlobalAveragePooling1D()(x)  \n",
    "outputs = layers.Dense(1, activation = 'sigmoid')(x)\n",
    "\n",
    "model_1 = tf.keras.Model(inputs, outputs, name = 'model_1')\n",
    "\n",
    "model_1.compile(loss = BinaryCrossentropy(),\n",
    "               optimizer = Adam(),\n",
    "               metrics = ['accuracy'])\n",
    "\n"
   ]
  },
  {
   "cell_type": "code",
   "execution_count": 181,
   "id": "816f9d9d",
   "metadata": {},
   "outputs": [
    {
     "name": "stdout",
     "output_type": "stream",
     "text": [
      "Model: \"model_1\"\n",
      "_________________________________________________________________\n",
      "Layer (type)                 Output Shape              Param #   \n",
      "=================================================================\n",
      "input_2 (InputLayer)         [(None, 1)]               0         \n",
      "_________________________________________________________________\n",
      "text_vectorizer (TextVectori (None, 15)                0         \n",
      "_________________________________________________________________\n",
      "embedding (Embedding)        (None, 15, 128)           128000    \n",
      "_________________________________________________________________\n",
      "global_average_pooling1d_1 ( (None, 128)               0         \n",
      "_________________________________________________________________\n",
      "dense_1 (Dense)              (None, 1)                 129       \n",
      "=================================================================\n",
      "Total params: 128,129\n",
      "Trainable params: 128,129\n",
      "Non-trainable params: 0\n",
      "_________________________________________________________________\n"
     ]
    }
   ],
   "source": [
    "model_1.summary()"
   ]
  },
  {
   "cell_type": "code",
   "execution_count": 182,
   "id": "58ccc489",
   "metadata": {},
   "outputs": [
    {
     "name": "stdout",
     "output_type": "stream",
     "text": [
      "Saving tensorboard log files to nlp_models\\model_1\\20210527_202904\n",
      "Epoch 1/5\n",
      "215/215 [==============================] - 3s 11ms/step - loss: 0.6029 - accuracy: 0.6979 - val_loss: 0.5560 - val_accuracy: 0.7612\n",
      "Epoch 2/5\n",
      "215/215 [==============================] - 1s 3ms/step - loss: 0.4954 - accuracy: 0.7882 - val_loss: 0.5090 - val_accuracy: 0.7743\n",
      "Epoch 3/5\n",
      "215/215 [==============================] - 1s 3ms/step - loss: 0.4490 - accuracy: 0.8022 - val_loss: 0.5010 - val_accuracy: 0.7756\n",
      "Epoch 4/5\n",
      "215/215 [==============================] - 1s 4ms/step - loss: 0.4240 - accuracy: 0.8117 - val_loss: 0.4966 - val_accuracy: 0.7795\n",
      "Epoch 5/5\n",
      "215/215 [==============================] - 1s 4ms/step - loss: 0.4088 - accuracy: 0.8158 - val_loss: 0.4977 - val_accuracy: 0.7782\n"
     ]
    }
   ],
   "source": [
    "history_1 = model_1.fit(x_train, y_train,\n",
    "                        epochs = 5, \n",
    "                        validation_data= (x_val, y_val), \n",
    "                        callbacks= [create_tensorboard_callback(dir_name= tensorboard_log_dir, experiment_name='model_1')])"
   ]
  },
  {
   "cell_type": "code",
   "execution_count": 183,
   "id": "10f4bfb3",
   "metadata": {},
   "outputs": [
    {
     "data": {
      "image/png": "[encoded data removed]",
      "text/plain": [
       "<Figure size 1080x504 with 2 Axes>"
      ]
     },
     "metadata": {
      "needs_background": "light"
     },
     "output_type": "display_data"
    }
   ],
   "source": [
    "plot_history(history_1)"
   ]
  },
  {
   "cell_type": "code",
   "execution_count": 200,
   "id": "7aa460c9",
   "metadata": {},
   "outputs": [
    {
     "data": {
      "text/plain": [
       "{'accuracy': 77.82, 'precision': 78.38, 'recall': 77.82, 'f1 score': 77.47}"
      ]
     },
     "execution_count": 200,
     "metadata": {},
     "output_type": "execute_result"
    }
   ],
   "source": [
    "y_pred = tf.round(tf.squeeze(model_1.predict(x_val)))\n",
    "model_1_results = evaluate_model(y_val, y_pred)\n",
    "model_1_results"
   ]
  },
  {
   "cell_type": "markdown",
   "id": "2562611d",
   "metadata": {},
   "source": [
    "### Visualize the embedding layer on projector by tensorflow\n",
    "\n",
    "Below code helps in visualizing the learned embeddings on [Embedding Projector](http://projector.tensorflow.org/)\n",
    "\n",
    "\n",
    "```\n",
    "weights = model_1.get_layer('embedding').get_weights()[0]\n",
    "vocab = vectorize_layer.get_vocabulary()\n",
    "\n",
    "import io\n",
    "\n",
    "out_v = io.open('vectors.tsv', 'w', encoding='utf-8')\n",
    "out_m = io.open('metadata.tsv', 'w', encoding='utf-8')\n",
    "\n",
    "for index, word in enumerate(vocab):\n",
    "    if index == 0:\n",
    "        continue  # skip 0, it's padding.\n",
    "    vec = weights[index]\n",
    "    out_v.write('\\t'.join([str(x) for x in vec]) + \"\\n\")\n",
    "    out_m.write(word + \"\\n\")\n",
    "out_v.close()\n",
    "out_m.close()\n",
    "```"
   ]
  },
  {
   "cell_type": "code",
   "execution_count": null,
   "id": "cada2cd2",
   "metadata": {},
   "outputs": [],
   "source": []
  },
  {
   "cell_type": "markdown",
   "id": "94465ecc",
   "metadata": {},
   "source": [
    "# Recurrent Neural Networks (RNN)\n",
    "\n",
    "> Schematically, a RNN layer uses a `for` loop to iterate over the timesteps of a\n",
    "sequence, while maintaining an internal state that encodes information about the\n",
    "timesteps it has seen so far.\n",
    "\n",
    "\n",
    "There are three built-in RNN layers in Keras:\n",
    "1. `keras.layers.SimpleRNN`, a fully-connected RNN where the output from previous\n",
    "timestep is to be fed to next timestep.\n",
    "2. `keras.layers.GRU`, first proposed in\n",
    "[Cho et al., 2014](https://arxiv.org/abs/1406.1078).\n",
    "3. `keras.layers.LSTM`, first proposed in\n",
    "[Hochreiter & Schmidhuber, 1997](https://www.bioinf.jku.at/publications/older/2604.pdf).\n",
    "\n",
    "The intuition of RNN is that is uses the representation of previous input to determine the next input.\n",
    "\n",
    "RNN is used for sequence data like text and timeseries data\n",
    "\n",
    "RNN keras implementation on [GitHub](https://github.com/keras-team/keras-io/blob/master/guides/working_with_rnns.py)\n",
    "\n",
    "By default, the output of a RNN layer contains a single vector per sample. This vector\n",
    "is the RNN cell output corresponding to the last timestep, containing information\n",
    "about the entire input sequence. The shape of this output is `(batch_size, units)`\n",
    "where `units` corresponds to the `units` argument passed to the layer's constructor."
   ]
  },
  {
   "cell_type": "markdown",
   "id": "dc19ecf0",
   "metadata": {},
   "source": [
    "# model_2: LSTM(RNN)\n",
    "\n",
    "LSTM: Long short term memory"
   ]
  },
  {
   "cell_type": "code",
   "execution_count": 276,
   "id": "97361f60",
   "metadata": {},
   "outputs": [],
   "source": [
    "inputs = layers.Input(shape= (1,), dtype= tf.string, name= 'input_layer')\n",
    "\n",
    "x = vectorize_layer(inputs)\n",
    "x = embedding(x)\n",
    "\n",
    "# When stacking multiple RNN layers, we need to set return_sequences = True\n",
    "x = layers.LSTM(units = 64, return_sequences = True, name = 'lstm_layer_1')(x) \n",
    "x = layers.LSTM(64,  name = 'lstm_layer_2')(x)\n",
    "x = layers.Dense(64, activation = 'relu', name = 'dense_layer_1')(x)\n",
    "\n",
    "outputs = layers.Dense(1, activation = 'sigmoid', name = 'output_layer')(x)\n",
    "\n",
    "model_2 = tf.keras.Model(inputs, outputs, name = 'model_2')"
   ]
  },
  {
   "cell_type": "code",
   "execution_count": 274,
   "id": "9860e7eb",
   "metadata": {},
   "outputs": [
    {
     "name": "stdout",
     "output_type": "stream",
     "text": [
      "Model: \"model_2\"\n",
      "_________________________________________________________________\n",
      "Layer (type)                 Output Shape              Param #   \n",
      "=================================================================\n",
      "input_layer (InputLayer)     [(None, 1)]               0         \n",
      "_________________________________________________________________\n",
      "text_vectorizer (TextVectori (None, 15)                0         \n",
      "_________________________________________________________________\n",
      "embedding (Embedding)        (None, 15, 128)           128000    \n",
      "_________________________________________________________________\n",
      "lstm_layer_1 (LSTM)          (None, 15, 64)            49408     \n",
      "_________________________________________________________________\n",
      "lstm_layer_2 (LSTM)          (None, 64)                33024     \n",
      "_________________________________________________________________\n",
      "dense_layer_1 (Dense)        (None, 64)                4160      \n",
      "_________________________________________________________________\n",
      "output_layer (Dense)         (None, 1)                 65        \n",
      "=================================================================\n",
      "Total params: 214,657\n",
      "Trainable params: 214,657\n",
      "Non-trainable params: 0\n",
      "_________________________________________________________________\n"
     ]
    }
   ],
   "source": [
    "model_2.summary()"
   ]
  },
  {
   "cell_type": "code",
   "execution_count": 277,
   "id": "b0c774e8",
   "metadata": {},
   "outputs": [
    {
     "name": "stdout",
     "output_type": "stream",
     "text": [
      "Saving tensorboard log files to nlp_models\\model_2\\20210528_185015\n",
      "Epoch 1/5\n",
      "215/215 [==============================] - 11s 39ms/step - loss: 0.3969 - accuracy: 0.8318 - val_loss: 0.5379 - val_accuracy: 0.7690\n",
      "Epoch 2/5\n",
      "215/215 [==============================] - 3s 16ms/step - loss: 0.3426 - accuracy: 0.8551 - val_loss: 0.5413 - val_accuracy: 0.7651\n",
      "Epoch 3/5\n",
      "215/215 [==============================] - 3s 15ms/step - loss: 0.3227 - accuracy: 0.8612 - val_loss: 0.6172 - val_accuracy: 0.7598\n",
      "Epoch 4/5\n",
      "215/215 [==============================] - 3s 15ms/step - loss: 0.3001 - accuracy: 0.8686 - val_loss: 0.6086 - val_accuracy: 0.7480\n",
      "Epoch 5/5\n",
      "215/215 [==============================] - 3s 15ms/step - loss: 0.2850 - accuracy: 0.8800 - val_loss: 0.6925 - val_accuracy: 0.7546\n"
     ]
    }
   ],
   "source": [
    "model_2.compile(loss= BinaryCrossentropy(),\n",
    "               optimizer = Adam(),\n",
    "               metrics = ['accuracy'])\n",
    "\n",
    "history_2 = model_2.fit(x_train, y_train, epochs = 10, validation_data=(x_val, y_val), \n",
    "                        callbacks= [create_tensorboard_callback(tensorboard_log_dir, 'model_2')])"
   ]
  },
  {
   "cell_type": "code",
   "execution_count": 279,
   "id": "5be1c9c2",
   "metadata": {},
   "outputs": [
    {
     "data": {
      "text/plain": [
       "{'accuracy': 75.46, 'precision': 75.55, 'recall': 75.46, 'f1 score': 75.26}"
      ]
     },
     "execution_count": 279,
     "metadata": {},
     "output_type": "execute_result"
    }
   ],
   "source": [
    "y_pred = tf.round(tf.squeeze(model_2.predict(x_val)))\n",
    "model_2_results = evaluate_model(y_val, y_pred)\n",
    "model_2_results"
   ]
  },
  {
   "cell_type": "code",
   "execution_count": 280,
   "id": "1ff295f4",
   "metadata": {},
   "outputs": [
    {
     "data": {
      "text/plain": [
       "{'accuracy': 79.27, 'precision': 81.11, 'recall': 79.27, 'f1 score': 78.62}"
      ]
     },
     "execution_count": 280,
     "metadata": {},
     "output_type": "execute_result"
    }
   ],
   "source": [
    "baseline_model_results"
   ]
  },
  {
   "cell_type": "code",
   "execution_count": 282,
   "id": "e4f1687f",
   "metadata": {},
   "outputs": [
    {
     "name": "stdout",
     "output_type": "stream",
     "text": [
      "Model: \"model_2_1\"\n",
      "_________________________________________________________________\n",
      "Layer (type)                 Output Shape              Param #   \n",
      "=================================================================\n",
      "input_layer (InputLayer)     [(None, 1)]               0         \n",
      "_________________________________________________________________\n",
      "text_vectorizer (TextVectori (None, 15)                0         \n",
      "_________________________________________________________________\n",
      "embedding (Embedding)        (None, 15, 128)           128000    \n",
      "_________________________________________________________________\n",
      "lstm_layer_1 (LSTM)          (None, 15, 64)            49408     \n",
      "_________________________________________________________________\n",
      "lstm_layer_2 (LSTM)          (None, 15, 64)            33024     \n",
      "_________________________________________________________________\n",
      "lstm_layer_3 (LSTM)          (None, 64)                33024     \n",
      "_________________________________________________________________\n",
      "dense_layer_1 (Dense)        (None, 64)                4160      \n",
      "_________________________________________________________________\n",
      "output_layer (Dense)         (None, 1)                 65        \n",
      "=================================================================\n",
      "Total params: 247,681\n",
      "Trainable params: 247,681\n",
      "Non-trainable params: 0\n",
      "_________________________________________________________________\n"
     ]
    }
   ],
   "source": [
    "# Trying to improve model_2 results by increaing the LSTM layers and training for double the epochs\n",
    "\n",
    "inputs = layers.Input(shape= (1,), dtype= tf.string, name= 'input_layer')\n",
    "\n",
    "x = vectorize_layer(inputs)\n",
    "x = embedding(x)\n",
    "\n",
    "# When stacking multiple RNN layers, we need to set return_sequences = True\n",
    "x = layers.LSTM(units = 64, return_sequences = True, name = 'lstm_layer_1')(x) \n",
    "x = layers.LSTM(units = 64, return_sequences = True, name = 'lstm_layer_2')(x) \n",
    "x = layers.LSTM(64,  name = 'lstm_layer_3')(x)\n",
    "x = layers.Dense(64, activation = 'relu', name = 'dense_layer_1')(x)\n",
    "\n",
    "outputs = layers.Dense(1, activation = 'sigmoid', name = 'output_layer')(x)\n",
    "\n",
    "model_2_1 = tf.keras.Model(inputs, outputs, name = 'model_2_1')\n",
    "\n",
    "model_2_1.summary()"
   ]
  },
  {
   "cell_type": "code",
   "execution_count": 283,
   "id": "4c60ff41",
   "metadata": {
    "scrolled": true
   },
   "outputs": [
    {
     "name": "stdout",
     "output_type": "stream",
     "text": [
      "Saving tensorboard log files to nlp_models\\model_2_1\\20210528_185417\n",
      "Epoch 1/10\n",
      "215/215 [==============================] - 14s 46ms/step - loss: 0.3794 - accuracy: 0.8359 - val_loss: 0.5792 - val_accuracy: 0.7559\n",
      "Epoch 2/10\n",
      "215/215 [==============================] - 4s 20ms/step - loss: 0.3037 - accuracy: 0.8680 - val_loss: 0.6628 - val_accuracy: 0.7454\n",
      "Epoch 3/10\n",
      "215/215 [==============================] - 4s 20ms/step - loss: 0.2844 - accuracy: 0.8768 - val_loss: 0.7085 - val_accuracy: 0.7454\n",
      "Epoch 4/10\n",
      "215/215 [==============================] - 4s 20ms/step - loss: 0.2582 - accuracy: 0.8886 - val_loss: 0.7923 - val_accuracy: 0.7323\n",
      "Epoch 5/10\n",
      "215/215 [==============================] - 4s 21ms/step - loss: 0.2414 - accuracy: 0.8921 - val_loss: 0.9498 - val_accuracy: 0.7283\n",
      "Epoch 6/10\n",
      "215/215 [==============================] - 4s 20ms/step - loss: 0.2325 - accuracy: 0.8993 - val_loss: 0.8325 - val_accuracy: 0.7244\n",
      "Epoch 7/10\n",
      "215/215 [==============================] - 5s 21ms/step - loss: 0.2187 - accuracy: 0.9054 - val_loss: 0.8140 - val_accuracy: 0.7231\n",
      "Epoch 8/10\n",
      "215/215 [==============================] - 4s 20ms/step - loss: 0.2100 - accuracy: 0.9088 - val_loss: 0.8585 - val_accuracy: 0.7270\n",
      "Epoch 9/10\n",
      "215/215 [==============================] - 4s 20ms/step - loss: 0.2046 - accuracy: 0.9105 - val_loss: 1.0005 - val_accuracy: 0.7402\n",
      "Epoch 10/10\n",
      "215/215 [==============================] - 4s 20ms/step - loss: 0.1870 - accuracy: 0.9171 - val_loss: 1.0185 - val_accuracy: 0.7388\n"
     ]
    }
   ],
   "source": [
    "model_2_1.compile(loss= BinaryCrossentropy(),\n",
    "               optimizer = Adam(),\n",
    "               metrics = ['accuracy'])\n",
    "\n",
    "history_2_1 = model_2_1.fit(x_train, y_train, epochs = 10, validation_data=(x_val, y_val), \n",
    "                        callbacks= [create_tensorboard_callback(tensorboard_log_dir, 'model_2_1')])"
   ]
  },
  {
   "cell_type": "code",
   "execution_count": 284,
   "id": "3d16bd42",
   "metadata": {},
   "outputs": [
    {
     "data": {
      "text/plain": [
       "{'accuracy': 73.88, 'precision': 73.88, 'recall': 73.88, 'f1 score': 73.72}"
      ]
     },
     "execution_count": 284,
     "metadata": {},
     "output_type": "execute_result"
    }
   ],
   "source": [
    "y_pred = tf.round(tf.squeeze(model_2_1.predict(x_val)))\n",
    "model_2_1_results = evaluate_model(y_val, y_pred)\n",
    "model_2_1_results"
   ]
  },
  {
   "cell_type": "markdown",
   "id": "4bbe2b59",
   "metadata": {},
   "source": [
    "# model_3: GRU (Gated Recurrent Unit)\n"
   ]
  },
  {
   "cell_type": "code",
   "execution_count": 304,
   "id": "9a472af6",
   "metadata": {},
   "outputs": [
    {
     "name": "stdout",
     "output_type": "stream",
     "text": [
      "Model: \"model_3\"\n",
      "_________________________________________________________________\n",
      "Layer (type)                 Output Shape              Param #   \n",
      "=================================================================\n",
      "input_layer (InputLayer)     [(None, 1)]               0         \n",
      "_________________________________________________________________\n",
      "text_vectorizer (TextVectori (None, 15)                0         \n",
      "_________________________________________________________________\n",
      "embedding (Embedding)        (None, 15, 128)           128000    \n",
      "_________________________________________________________________\n",
      "GRU_layer_1 (GRU)            (None, 15, 64)            37248     \n",
      "_________________________________________________________________\n",
      "GRU_layer_2 (GRU)            (None, 64)                24960     \n",
      "_________________________________________________________________\n",
      "dense_layer_1 (Dense)        (None, 64)                4160      \n",
      "_________________________________________________________________\n",
      "output_layer (Dense)         (None, 1)                 65        \n",
      "=================================================================\n",
      "Total params: 194,433\n",
      "Trainable params: 194,433\n",
      "Non-trainable params: 0\n",
      "_________________________________________________________________\n"
     ]
    }
   ],
   "source": [
    "inputs = layers.Input(shape= (1,), dtype= tf.string, name = 'input_layer')\n",
    "\n",
    "x = vectorize_layer(inputs)\n",
    "x = embedding(x)\n",
    "\n",
    "x = layers.GRU(64, return_sequences = True, name = 'GRU_layer_1')(x)\n",
    "x = layers.GRU(64, name = 'GRU_layer_2')(x)\n",
    "x = layers.Dense(64, activation = 'relu', name = 'dense_layer_1')(x)\n",
    "\n",
    "outputs = layers.Dense(1, activation = 'sigmoid', name = 'output_layer')(x)\n",
    "\n",
    "model_3 = tf.keras.Model(inputs, outputs, name = 'model_3')\n",
    "\n",
    "model_3.summary()"
   ]
  },
  {
   "cell_type": "code",
   "execution_count": 305,
   "id": "6cba09c1",
   "metadata": {},
   "outputs": [
    {
     "name": "stdout",
     "output_type": "stream",
     "text": [
      "Saving tensorboard log files to nlp_models\\model_3\\20210528_190842\n",
      "Epoch 1/5\n",
      "215/215 [==============================] - 11s 37ms/step - loss: 0.3713 - accuracy: 0.8400 - val_loss: 0.6348 - val_accuracy: 0.7467\n",
      "Epoch 2/5\n",
      "215/215 [==============================] - 3s 13ms/step - loss: 0.2595 - accuracy: 0.8875 - val_loss: 0.8615 - val_accuracy: 0.7375\n",
      "Epoch 3/5\n",
      "215/215 [==============================] - 3s 14ms/step - loss: 0.2169 - accuracy: 0.9075 - val_loss: 0.9068 - val_accuracy: 0.7152\n",
      "Epoch 4/5\n",
      "215/215 [==============================] - 3s 13ms/step - loss: 0.1814 - accuracy: 0.9234 - val_loss: 1.1336 - val_accuracy: 0.7415\n",
      "Epoch 5/5\n",
      "215/215 [==============================] - 3s 13ms/step - loss: 0.1674 - accuracy: 0.9257 - val_loss: 1.2637 - val_accuracy: 0.7152\n"
     ]
    }
   ],
   "source": [
    "model_3.compile(loss= BinaryCrossentropy(),\n",
    "               optimizer = Adam(),\n",
    "               metrics = ['accuracy'])\n",
    "\n",
    "history_3 = model_3.fit(x_train, y_train, epochs = 5, validation_data=(x_val, y_val), \n",
    "                        callbacks= [create_tensorboard_callback(tensorboard_log_dir, 'model_3')])"
   ]
  },
  {
   "cell_type": "code",
   "execution_count": 298,
   "id": "73759beb",
   "metadata": {},
   "outputs": [
    {
     "data": {
      "text/plain": [
       "{'accuracy': 73.1, 'precision': 73.15, 'recall': 73.1, 'f1 score': 72.86}"
      ]
     },
     "execution_count": 298,
     "metadata": {},
     "output_type": "execute_result"
    }
   ],
   "source": [
    "y_pred = tf.round(tf.squeeze(model_3.predict(x_val)))\n",
    "model_3_results = evaluate_model(y_val, y_pred)\n",
    "model_3_results"
   ]
  },
  {
   "cell_type": "markdown",
   "id": "f5872059",
   "metadata": {},
   "source": [
    "# model_4: Bi-directional LSTM"
   ]
  },
  {
   "cell_type": "code",
   "execution_count": 315,
   "id": "736444c0",
   "metadata": {},
   "outputs": [
    {
     "name": "stdout",
     "output_type": "stream",
     "text": [
      "Model: \"model_4\"\n",
      "_________________________________________________________________\n",
      "Layer (type)                 Output Shape              Param #   \n",
      "=================================================================\n",
      "input_layer (InputLayer)     [(None, 1)]               0         \n",
      "_________________________________________________________________\n",
      "text_vectorizer (TextVectori (None, 15)                0         \n",
      "_________________________________________________________________\n",
      "embedding (Embedding)        (None, 15, 128)           128000    \n",
      "_________________________________________________________________\n",
      "bidirectional_10 (Bidirectio (None, 15, 16)            8768      \n",
      "_________________________________________________________________\n",
      "bidirectional_11 (Bidirectio (None, 16)                1248      \n",
      "_________________________________________________________________\n",
      "dense_layer_1 (Dense)        (None, 16)                272       \n",
      "_________________________________________________________________\n",
      "output_layer (Dense)         (None, 1)                 17        \n",
      "=================================================================\n",
      "Total params: 138,305\n",
      "Trainable params: 138,305\n",
      "Non-trainable params: 0\n",
      "_________________________________________________________________\n"
     ]
    }
   ],
   "source": [
    "inputs = layers.Input(shape=(1,), dtype= tf.string, name = 'input_layer')\n",
    "\n",
    "x = vectorize_layer(inputs)\n",
    "x = embedding(x)\n",
    "\n",
    "x = layers.Bidirectional(layers.LSTM(8, return_sequences = True, name = 'lstm_layer_1'))(x)\n",
    "x = layers.Bidirectional(layers.GRU(8, name = 'gru_layer_1'))(x)\n",
    "x = layers.Dense(16, activation = 'relu', name = 'dense_layer_1')(x)\n",
    "\n",
    "outputs = layers.Dense(1, activation = 'sigmoid', name = 'output_layer')(x)\n",
    "\n",
    "model_4 = tf.keras.Model(inputs, outputs, name = 'model_4')\n",
    "\n",
    "model_4.summary()"
   ]
  },
  {
   "cell_type": "code",
   "execution_count": 316,
   "id": "819fcc1a",
   "metadata": {},
   "outputs": [
    {
     "name": "stdout",
     "output_type": "stream",
     "text": [
      "Saving tensorboard log files to nlp_models\\model_4\\20210528_210614\n",
      "Epoch 1/5\n",
      "215/215 [==============================] - 17s 52ms/step - loss: 0.4625 - accuracy: 0.7872 - val_loss: 0.5172 - val_accuracy: 0.7638\n",
      "Epoch 2/5\n",
      "215/215 [==============================] - 3s 12ms/step - loss: 0.3030 - accuracy: 0.8726 - val_loss: 0.6005 - val_accuracy: 0.7651\n",
      "Epoch 3/5\n",
      "215/215 [==============================] - 3s 12ms/step - loss: 0.2510 - accuracy: 0.8993 - val_loss: 0.6613 - val_accuracy: 0.7520\n",
      "Epoch 4/5\n",
      "215/215 [==============================] - 3s 12ms/step - loss: 0.2178 - accuracy: 0.9156 - val_loss: 0.7418 - val_accuracy: 0.7585\n",
      "Epoch 5/5\n",
      "215/215 [==============================] - 2s 12ms/step - loss: 0.1987 - accuracy: 0.9218 - val_loss: 0.7603 - val_accuracy: 0.7638\n"
     ]
    }
   ],
   "source": [
    "model_4.compile(loss= BinaryCrossentropy(),\n",
    "               optimizer = Adam(),\n",
    "               metrics = ['accuracy'])\n",
    "\n",
    "history_4 = model_4.fit(x_train, y_train, epochs = 5, validation_data=(x_val, y_val), \n",
    "                        callbacks= [create_tensorboard_callback(tensorboard_log_dir, 'model_4')])"
   ]
  },
  {
   "cell_type": "code",
   "execution_count": 317,
   "id": "97dcf46f",
   "metadata": {},
   "outputs": [
    {
     "data": {
      "text/plain": [
       "{'accuracy': 76.38, 'precision': 76.35, 'recall': 76.38, 'f1 score': 76.3}"
      ]
     },
     "execution_count": 317,
     "metadata": {},
     "output_type": "execute_result"
    }
   ],
   "source": [
    "y_pred = tf.round(tf.squeeze(model_4.predict(x_val)))\n",
    "model_4_results = evaluate_model(y_val, y_pred)\n",
    "model_4_results"
   ]
  },
  {
   "cell_type": "code",
   "execution_count": null,
   "id": "b96251f2",
   "metadata": {},
   "outputs": [],
   "source": []
  }
 ],
 "metadata": {
  "kernelspec": {
   "display_name": "Python 3",
   "language": "python",
   "name": "python3"
  },
  "language_info": {
   "codemirror_mode": {
    "name": "ipython",
    "version": 3
   },
   "file_extension": ".py",
   "mimetype": "text/x-python",
   "name": "python",
   "nbconvert_exporter": "python",
   "pygments_lexer": "ipython3",
   "version": "3.9.5"
  }
 },
 "nbformat": 4,
 "nbformat_minor": 5
}
