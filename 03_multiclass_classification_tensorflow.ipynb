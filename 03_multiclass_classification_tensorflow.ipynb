{
 "cells": [
  {
   "cell_type": "markdown",
   "id": "29b3eedf",
   "metadata": {},
   "source": [
    "# Problems with more than 1 output label"
   ]
  },
  {
   "cell_type": "code",
   "execution_count": 1,
   "id": "2d821345",
   "metadata": {},
   "outputs": [
    {
     "name": "stdout",
     "output_type": "stream",
     "text": [
      "INFO:tensorflow:Enabling eager execution\n",
      "INFO:tensorflow:Enabling v2 tensorshape\n",
      "INFO:tensorflow:Enabling resource variables\n",
      "INFO:tensorflow:Enabling tensor equality\n",
      "INFO:tensorflow:Enabling control flow v2\n",
      "2.5.0-rc2\n"
     ]
    }
   ],
   "source": [
    "import os\n",
    "import numpy as np\n",
    "import pandas as pd\n",
    "\n",
    "import tensorflow as tf\n",
    "print(tf.__version__)\n",
    "\n",
    "from sklearn.model_selection import train_test_split\n",
    "\n",
    "import matplotlib.pyplot as plt"
   ]
  },
  {
   "cell_type": "markdown",
   "id": "6e30a4df",
   "metadata": {},
   "source": [
    "# We are going to work on Fashion MNIST dataset\n",
    "\n",
    "This is a dataset of 60,000 28x28 grayscale images of 10 fashion categories,\n",
    "along with a test set of 10,000 images. This dataset can be used as\n",
    "a drop-in replacement for MNIST.\n",
    "\n",
    "The classes are:\n",
    "\n",
    "| Label | Description |\n",
    "|:-----:|-------------|\n",
    "|   0   | T-shirt/top |\n",
    "|   1   | Trouser     |\n",
    "|   2   | Pullover    |\n",
    "|   3   | Dress       |\n",
    "|   4   | Coat        |\n",
    "|   5   | Sandal      |\n",
    "|   6   | Shirt       |\n",
    "|   7   | Sneaker     |\n",
    "|   8   | Bag         |\n",
    "|   9   | Ankle boot  |"
   ]
  },
  {
   "cell_type": "code",
   "execution_count": 65,
   "id": "433f2792",
   "metadata": {},
   "outputs": [
    {
     "name": "stdout",
     "output_type": "stream",
     "text": [
      "Train dataset shape: (48000, 28, 28) \n",
      "Validation dataset shape: (12000, 28, 28) \n",
      "Test dataset shape: (10000, 28, 28)\n"
     ]
    }
   ],
   "source": [
    "# Load fashion MNIST dataset already present in tensorflow\n",
    "\n",
    "(x_train, y_train), (x_test, y_test) = tf.keras.datasets.fashion_mnist.load_data()\n",
    "\n",
    "x_train, x_val, y_train, y_val = train_test_split(x_train, y_train, test_size = 0.2, random_state= 42)\n",
    "\n",
    "print(f'Train dataset shape: {x_train.shape} \\nValidation dataset shape: {x_val.shape} \\nTest dataset shape: {x_test.shape}')"
   ]
  },
  {
   "cell_type": "code",
   "execution_count": 47,
   "id": "5f78a9d7",
   "metadata": {},
   "outputs": [],
   "source": [
    "class_names = ['T-shirt/top', 'Trouser', 'Pullover', 'Dress', 'Coat', 'Sandal', 'Shirt', 'Sneaker', 'Bag', 'Ankle boot']"
   ]
  },
  {
   "cell_type": "code",
   "execution_count": 54,
   "id": "cef03cfa",
   "metadata": {},
   "outputs": [
    {
     "data": {
      "image/png": "[encoded data removed]",
      "text/plain": [
       "<Figure size 720x576 with 4 Axes>"
      ]
     },
     "metadata": {
      "needs_background": "light"
     },
     "output_type": "display_data"
    }
   ],
   "source": [
    "import random\n",
    "\n",
    "fig = plt.figure(figsize= (10, 8))\n",
    "\n",
    "for i in range(4):\n",
    "    ax = plt.subplot(2, 2, i+1)\n",
    "    idx = random.randint(0, 48000)\n",
    "    ax.imshow(x_train[idx], cmap = plt.cm.binary)\n",
    "    ax.set_title(f'Image label: {class_names[y_train[idx]]}')"
   ]
  },
  {
   "cell_type": "code",
   "execution_count": null,
   "id": "6ea8e120",
   "metadata": {},
   "outputs": [],
   "source": []
  },
  {
   "cell_type": "code",
   "execution_count": 66,
   "id": "84cb42b9",
   "metadata": {
    "scrolled": true
   },
   "outputs": [
    {
     "name": "stdout",
     "output_type": "stream",
     "text": [
      "Epoch 1/20\n",
      "1500/1500 [==============================] - 2s 943us/step - loss: 2.3296 - accuracy: 0.1342 - val_loss: 1.8936 - val_accuracy: 0.2052\n",
      "Epoch 2/20\n",
      "1500/1500 [==============================] - 1s 869us/step - loss: 1.7840 - accuracy: 0.2375 - val_loss: 1.7247 - val_accuracy: 0.2684\n",
      "Epoch 3/20\n",
      "1500/1500 [==============================] - 1s 904us/step - loss: 1.6903 - accuracy: 0.2723 - val_loss: 1.6625 - val_accuracy: 0.2869\n",
      "Epoch 4/20\n",
      "1500/1500 [==============================] - 1s 908us/step - loss: 1.6545 - accuracy: 0.2829 - val_loss: 1.6508 - val_accuracy: 0.2891\n",
      "Epoch 5/20\n",
      "1500/1500 [==============================] - 1s 871us/step - loss: 1.6267 - accuracy: 0.2874 - val_loss: 1.6219 - val_accuracy: 0.2828\n",
      "Epoch 6/20\n",
      "1500/1500 [==============================] - 1s 872us/step - loss: 1.6100 - accuracy: 0.2975 - val_loss: 1.6107 - val_accuracy: 0.3097\n",
      "Epoch 7/20\n",
      "1500/1500 [==============================] - 1s 873us/step - loss: 1.6017 - accuracy: 0.3054 - val_loss: 1.6487 - val_accuracy: 0.3033\n",
      "Epoch 8/20\n",
      "1500/1500 [==============================] - 1s 865us/step - loss: 1.5904 - accuracy: 0.3175 - val_loss: 1.5981 - val_accuracy: 0.3126\n",
      "Epoch 9/20\n",
      "1500/1500 [==============================] - 1s 866us/step - loss: 1.5834 - accuracy: 0.3210 - val_loss: 1.5924 - val_accuracy: 0.3288\n",
      "Epoch 10/20\n",
      "1500/1500 [==============================] - 1s 901us/step - loss: 1.5696 - accuracy: 0.3240 - val_loss: 1.6205 - val_accuracy: 0.3066\n",
      "Epoch 11/20\n",
      "1500/1500 [==============================] - 1s 869us/step - loss: 1.5597 - accuracy: 0.3310 - val_loss: 1.5979 - val_accuracy: 0.3076\n",
      "Epoch 12/20\n",
      "1500/1500 [==============================] - 1s 897us/step - loss: 1.5427 - accuracy: 0.3366 - val_loss: 1.6006 - val_accuracy: 0.3360\n",
      "Epoch 13/20\n",
      "1500/1500 [==============================] - ETA: 0s - loss: 1.5179 - accuracy: 0.35 - 1s 922us/step - loss: 1.5176 - accuracy: 0.3518 - val_loss: 1.5380 - val_accuracy: 0.3516\n",
      "Epoch 14/20\n",
      "1500/1500 [==============================] - 1s 893us/step - loss: 1.5029 - accuracy: 0.3575 - val_loss: 1.5078 - val_accuracy: 0.3599\n",
      "Epoch 15/20\n",
      "1500/1500 [==============================] - 1s 899us/step - loss: 1.4861 - accuracy: 0.3629 - val_loss: 1.4967 - val_accuracy: 0.3627\n",
      "Epoch 16/20\n",
      "1500/1500 [==============================] - 1s 886us/step - loss: 1.4631 - accuracy: 0.3775 - val_loss: 1.4441 - val_accuracy: 0.3968\n",
      "Epoch 17/20\n",
      "1500/1500 [==============================] - 1s 884us/step - loss: 1.3847 - accuracy: 0.4129 - val_loss: 1.3349 - val_accuracy: 0.4351\n",
      "Epoch 18/20\n",
      "1500/1500 [==============================] - 1s 967us/step - loss: 1.2594 - accuracy: 0.4576 - val_loss: 1.2605 - val_accuracy: 0.4630\n",
      "Epoch 19/20\n",
      "1500/1500 [==============================] - 1s 906us/step - loss: 1.2049 - accuracy: 0.4895 - val_loss: 1.1960 - val_accuracy: 0.5072\n",
      "Epoch 20/20\n",
      "1500/1500 [==============================] - 1s 929us/step - loss: 1.1127 - accuracy: 0.5338 - val_loss: 1.1099 - val_accuracy: 0.5362\n"
     ]
    }
   ],
   "source": [
    "# Set random seed\n",
    "tf.random.set_seed(42)\n",
    "\n",
    "# Build the model\n",
    "model_1 = tf.keras.Sequential([\n",
    "    tf.keras.layers.Flatten(input_shape = (28,28)),\n",
    "    tf.keras.layers.Dense(4, activation = 'relu'),\n",
    "    tf.keras.layers.Dense(4, activation = 'relu'),\n",
    "    tf.keras.layers.Dense(10, activation = 'softmax')\n",
    "])\n",
    "\n",
    "# Compile the model\n",
    "model_1.compile(loss= tf.keras.losses.SparseCategoricalCrossentropy(),\n",
    "               optimizer = tf.keras.optimizers.Adam(),\n",
    "               metrics = ['accuracy'])\n",
    "\n",
    "\n",
    "history_1 = model_1.fit(x_train, y_train, epochs = 20, validation_data= (x_val, y_val))"
   ]
  },
  {
   "cell_type": "code",
   "execution_count": null,
   "id": "15053b9a",
   "metadata": {},
   "outputs": [],
   "source": []
  },
  {
   "cell_type": "code",
   "execution_count": 68,
   "id": "da0e068b",
   "metadata": {},
   "outputs": [],
   "source": [
    "# Normalizing the dataset\n",
    "\n",
    "x_train_norm = x_train/255.0\n",
    "x_val_norm = x_val/255.0\n",
    "x_test_norm = x_test/255.0\n"
   ]
  },
  {
   "cell_type": "code",
   "execution_count": 70,
   "id": "620dcc7c",
   "metadata": {
    "scrolled": true
   },
   "outputs": [
    {
     "name": "stdout",
     "output_type": "stream",
     "text": [
      "Epoch 1/20\n",
      "1500/1500 [==============================] - 2s 974us/step - loss: 1.1734 - accuracy: 0.6179 - val_loss: 0.7967 - val_accuracy: 0.7354\n",
      "Epoch 2/20\n",
      "1500/1500 [==============================] - 1s 894us/step - loss: 0.6993 - accuracy: 0.7560 - val_loss: 0.6706 - val_accuracy: 0.7654\n",
      "Epoch 3/20\n",
      "1500/1500 [==============================] - 1s 907us/step - loss: 0.6386 - accuracy: 0.7711 - val_loss: 0.6398 - val_accuracy: 0.7720\n",
      "Epoch 4/20\n",
      "1500/1500 [==============================] - 1s 907us/step - loss: 0.6153 - accuracy: 0.7791 - val_loss: 0.6229 - val_accuracy: 0.7740\n",
      "Epoch 5/20\n",
      "1500/1500 [==============================] - 2s 1ms/step - loss: 0.6001 - accuracy: 0.7827 - val_loss: 0.6209 - val_accuracy: 0.7738\n",
      "Epoch 6/20\n",
      "1500/1500 [==============================] - 1s 952us/step - loss: 0.5905 - accuracy: 0.7874 - val_loss: 0.6171 - val_accuracy: 0.7817\n",
      "Epoch 7/20\n",
      "1500/1500 [==============================] - 1s 897us/step - loss: 0.5842 - accuracy: 0.7885 - val_loss: 0.5988 - val_accuracy: 0.7883\n",
      "Epoch 8/20\n",
      "1500/1500 [==============================] - 1s 888us/step - loss: 0.5770 - accuracy: 0.7899 - val_loss: 0.5943 - val_accuracy: 0.7889\n",
      "Epoch 9/20\n",
      "1500/1500 [==============================] - 1s 916us/step - loss: 0.5728 - accuracy: 0.7914 - val_loss: 0.5883 - val_accuracy: 0.7897\n",
      "Epoch 10/20\n",
      "1500/1500 [==============================] - 1s 883us/step - loss: 0.5663 - accuracy: 0.7945 - val_loss: 0.6111 - val_accuracy: 0.7862\n",
      "Epoch 11/20\n",
      "1500/1500 [==============================] - 1s 905us/step - loss: 0.5634 - accuracy: 0.7951 - val_loss: 0.5831 - val_accuracy: 0.7896\n",
      "Epoch 12/20\n",
      "1500/1500 [==============================] - 1s 899us/step - loss: 0.5592 - accuracy: 0.7966 - val_loss: 0.5797 - val_accuracy: 0.7882\n",
      "Epoch 13/20\n",
      "1500/1500 [==============================] - 1s 912us/step - loss: 0.5554 - accuracy: 0.7982 - val_loss: 0.5873 - val_accuracy: 0.7894\n",
      "Epoch 14/20\n",
      "1500/1500 [==============================] - 1s 878us/step - loss: 0.5519 - accuracy: 0.7976 - val_loss: 0.5842 - val_accuracy: 0.7923\n",
      "Epoch 15/20\n",
      "1500/1500 [==============================] - 1s 888us/step - loss: 0.5462 - accuracy: 0.8006 - val_loss: 0.5739 - val_accuracy: 0.7948\n",
      "Epoch 16/20\n",
      "1500/1500 [==============================] - 1s 868us/step - loss: 0.5420 - accuracy: 0.8029 - val_loss: 0.5665 - val_accuracy: 0.7982\n",
      "Epoch 17/20\n",
      "1500/1500 [==============================] - 1s 928us/step - loss: 0.5384 - accuracy: 0.8036 - val_loss: 0.5624 - val_accuracy: 0.7980\n",
      "Epoch 18/20\n",
      "1500/1500 [==============================] - 1s 920us/step - loss: 0.5349 - accuracy: 0.8063 - val_loss: 0.5558 - val_accuracy: 0.8016\n",
      "Epoch 19/20\n",
      "1500/1500 [==============================] - 1s 915us/step - loss: 0.5309 - accuracy: 0.8056 - val_loss: 0.5663 - val_accuracy: 0.7947\n",
      "Epoch 20/20\n",
      "1500/1500 [==============================] - 1s 902us/step - loss: 0.5262 - accuracy: 0.8075 - val_loss: 0.5479 - val_accuracy: 0.8038\n"
     ]
    }
   ],
   "source": [
    "# Set random seed\n",
    "tf.random.set_seed(42)\n",
    "\n",
    "# Build the model\n",
    "model_2 = tf.keras.Sequential([\n",
    "    tf.keras.layers.Flatten(input_shape = (28,28)),\n",
    "    tf.keras.layers.Dense(4, activation = 'relu'),\n",
    "    tf.keras.layers.Dense(4, activation = 'relu'),\n",
    "    tf.keras.layers.Dense(10, activation = 'softmax')\n",
    "])\n",
    "\n",
    "# Compile the model\n",
    "model_2.compile(loss= tf.keras.losses.SparseCategoricalCrossentropy(),\n",
    "               optimizer = tf.keras.optimizers.Adam(),\n",
    "               metrics = ['accuracy'])\n",
    "\n",
    "\n",
    "history_2 = model_2.fit(x_train_norm, y_train, epochs = 20, validation_data= (x_val_norm, y_val))"
   ]
  },
  {
   "cell_type": "code",
   "execution_count": 71,
   "id": "8ec69237",
   "metadata": {},
   "outputs": [
    {
     "name": "stdout",
     "output_type": "stream",
     "text": [
      "313/313 [==============================] - 0s 920us/step - loss: 161.9928 - accuracy: 0.6792\n"
     ]
    },
    {
     "data": {
      "text/plain": [
       "[161.99276733398438, 0.6791999936103821]"
      ]
     },
     "execution_count": 71,
     "metadata": {},
     "output_type": "execute_result"
    }
   ],
   "source": [
    "model_2.evaluate(x_test, y_test)"
   ]
  },
  {
   "cell_type": "markdown",
   "id": "15d977db",
   "metadata": {},
   "source": [
    "### Finding the ideal learning rate"
   ]
  },
  {
   "cell_type": "code",
   "execution_count": 92,
   "id": "45aff36f",
   "metadata": {
    "scrolled": true
   },
   "outputs": [
    {
     "name": "stdout",
     "output_type": "stream",
     "text": [
      "Epoch 1/40\n",
      "1500/1500 [==============================] - 2s 1ms/step - loss: 1.1734 - accuracy: 0.6179 - val_loss: 0.7967 - val_accuracy: 0.7354\n",
      "Epoch 2/40\n",
      "1500/1500 [==============================] - 2s 1ms/step - loss: 0.6968 - accuracy: 0.7563 - val_loss: 0.6765 - val_accuracy: 0.7659\n",
      "Epoch 3/40\n",
      "1500/1500 [==============================] - 1s 936us/step - loss: 0.6363 - accuracy: 0.7719 - val_loss: 0.6355 - val_accuracy: 0.7733\n",
      "Epoch 4/40\n",
      "1500/1500 [==============================] - 1s 906us/step - loss: 0.6140 - accuracy: 0.7782 - val_loss: 0.6171 - val_accuracy: 0.7782\n",
      "Epoch 5/40\n",
      "1500/1500 [==============================] - 2s 1ms/step - loss: 0.5990 - accuracy: 0.7833 - val_loss: 0.6144 - val_accuracy: 0.7803\n",
      "Epoch 6/40\n",
      "1500/1500 [==============================] - 1s 918us/step - loss: 0.5898 - accuracy: 0.7862 - val_loss: 0.6079 - val_accuracy: 0.7837\n",
      "Epoch 7/40\n",
      "1500/1500 [==============================] - 1s 916us/step - loss: 0.5835 - accuracy: 0.7875 - val_loss: 0.6141 - val_accuracy: 0.7843\n",
      "Epoch 8/40\n",
      "1500/1500 [==============================] - 1s 930us/step - loss: 0.5790 - accuracy: 0.7889 - val_loss: 0.5840 - val_accuracy: 0.7914\n",
      "Epoch 9/40\n",
      "1500/1500 [==============================] - 1s 922us/step - loss: 0.5720 - accuracy: 0.7912 - val_loss: 0.5775 - val_accuracy: 0.7940\n",
      "Epoch 10/40\n",
      "1500/1500 [==============================] - 1s 929us/step - loss: 0.5606 - accuracy: 0.7943 - val_loss: 0.5681 - val_accuracy: 0.7953\n",
      "Epoch 11/40\n",
      "1500/1500 [==============================] - 1s 949us/step - loss: 0.5558 - accuracy: 0.7975 - val_loss: 0.5603 - val_accuracy: 0.7971\n",
      "Epoch 12/40\n",
      "1500/1500 [==============================] - 1s 959us/step - loss: 0.5477 - accuracy: 0.8008 - val_loss: 0.5912 - val_accuracy: 0.7815\n",
      "Epoch 13/40\n",
      "1500/1500 [==============================] - 1s 923us/step - loss: 0.5447 - accuracy: 0.8010 - val_loss: 0.5693 - val_accuracy: 0.8018\n",
      "Epoch 14/40\n",
      "1500/1500 [==============================] - 1s 929us/step - loss: 0.5447 - accuracy: 0.8018 - val_loss: 0.5470 - val_accuracy: 0.8019\n",
      "Epoch 15/40\n",
      "1500/1500 [==============================] - 1s 926us/step - loss: 0.5405 - accuracy: 0.8036 - val_loss: 0.5364 - val_accuracy: 0.8086\n",
      "Epoch 16/40\n",
      "1500/1500 [==============================] - 1s 922us/step - loss: 0.5393 - accuracy: 0.8070 - val_loss: 0.5839 - val_accuracy: 0.7961\n",
      "Epoch 17/40\n",
      "1500/1500 [==============================] - 1s 919us/step - loss: 0.5397 - accuracy: 0.8067 - val_loss: 0.5716 - val_accuracy: 0.8020\n",
      "Epoch 18/40\n",
      "1500/1500 [==============================] - 1s 933us/step - loss: 0.5399 - accuracy: 0.8058 - val_loss: 0.5392 - val_accuracy: 0.8138\n",
      "Epoch 19/40\n",
      "1500/1500 [==============================] - 1s 924us/step - loss: 0.5404 - accuracy: 0.8083 - val_loss: 0.5612 - val_accuracy: 0.8040\n",
      "Epoch 20/40\n",
      "1500/1500 [==============================] - 1s 914us/step - loss: 0.5369 - accuracy: 0.8120 - val_loss: 0.5470 - val_accuracy: 0.8133\n",
      "Epoch 21/40\n",
      "1500/1500 [==============================] - 1s 931us/step - loss: 0.5318 - accuracy: 0.8128 - val_loss: 0.6037 - val_accuracy: 0.7872\n",
      "Epoch 22/40\n",
      "1500/1500 [==============================] - 1s 926us/step - loss: 0.5367 - accuracy: 0.8120 - val_loss: 0.5317 - val_accuracy: 0.8152\n",
      "Epoch 23/40\n",
      "1500/1500 [==============================] - 1s 928us/step - loss: 0.5377 - accuracy: 0.8118 - val_loss: 0.5369 - val_accuracy: 0.8189\n",
      "Epoch 24/40\n",
      "1500/1500 [==============================] - 1s 923us/step - loss: 0.5479 - accuracy: 0.8072 - val_loss: 0.6736 - val_accuracy: 0.7614\n",
      "Epoch 25/40\n",
      "1500/1500 [==============================] - 1s 917us/step - loss: 0.5568 - accuracy: 0.8058 - val_loss: 0.5495 - val_accuracy: 0.8127\n",
      "Epoch 26/40\n",
      "1500/1500 [==============================] - 1s 924us/step - loss: 0.5596 - accuracy: 0.8052 - val_loss: 0.5718 - val_accuracy: 0.8023\n",
      "Epoch 27/40\n",
      "1500/1500 [==============================] - 1s 926us/step - loss: 0.5783 - accuracy: 0.8003 - val_loss: 0.5932 - val_accuracy: 0.7885\n",
      "Epoch 28/40\n",
      "1500/1500 [==============================] - 1s 927us/step - loss: 0.5885 - accuracy: 0.7968 - val_loss: 0.5748 - val_accuracy: 0.8032\n",
      "Epoch 29/40\n",
      "1500/1500 [==============================] - 1s 937us/step - loss: 0.6000 - accuracy: 0.7953 - val_loss: 0.5688 - val_accuracy: 0.8056\n",
      "Epoch 30/40\n",
      "1500/1500 [==============================] - 1s 926us/step - loss: 0.6227 - accuracy: 0.7903 - val_loss: 0.5613 - val_accuracy: 0.8133\n",
      "Epoch 31/40\n",
      "1500/1500 [==============================] - 1s 915us/step - loss: 0.6300 - accuracy: 0.7861 - val_loss: 0.6443 - val_accuracy: 0.8013\n",
      "Epoch 32/40\n",
      "1500/1500 [==============================] - 1s 943us/step - loss: 0.6721 - accuracy: 0.7736 - val_loss: 0.7373 - val_accuracy: 0.7578\n",
      "Epoch 33/40\n",
      "1500/1500 [==============================] - 1s 963us/step - loss: 0.7357 - accuracy: 0.7472 - val_loss: 0.7542 - val_accuracy: 0.7075\n",
      "Epoch 34/40\n",
      "1500/1500 [==============================] - 1s 958us/step - loss: 0.7574 - accuracy: 0.7330 - val_loss: 0.7220 - val_accuracy: 0.7449\n",
      "Epoch 35/40\n",
      "1500/1500 [==============================] - 1s 942us/step - loss: 0.7923 - accuracy: 0.7109 - val_loss: 1.3011 - val_accuracy: 0.5203\n",
      "Epoch 36/40\n",
      "1500/1500 [==============================] - 1s 939us/step - loss: 0.9550 - accuracy: 0.6547 - val_loss: 0.8801 - val_accuracy: 0.6804\n",
      "Epoch 37/40\n",
      "1500/1500 [==============================] - 1s 927us/step - loss: 0.9181 - accuracy: 0.6691 - val_loss: 0.8028 - val_accuracy: 0.6975\n",
      "Epoch 38/40\n",
      "1500/1500 [==============================] - 1s 938us/step - loss: 1.3056 - accuracy: 0.4940 - val_loss: 1.4747 - val_accuracy: 0.4214\n",
      "Epoch 39/40\n",
      "1500/1500 [==============================] - 1s 968us/step - loss: 2.3391 - accuracy: 0.1067 - val_loss: 2.3200 - val_accuracy: 0.1015\n",
      "Epoch 40/40\n",
      "1500/1500 [==============================] - 1s 931us/step - loss: 2.3145 - accuracy: 0.1025 - val_loss: 2.3108 - val_accuracy: 0.1015\n"
     ]
    }
   ],
   "source": [
    "# Set random seed\n",
    "tf.random.set_seed(42)\n",
    "\n",
    "# Build model\n",
    "model_3 = tf.keras.Sequential([\n",
    "    tf.keras.layers.Flatten(input_shape = (28, 28)),\n",
    "    tf.keras.layers.Dense(4, activation = 'relu'),\n",
    "    tf.keras.layers.Dense(4, activation = 'relu'),\n",
    "    tf.keras.layers.Dense(10, activation = 'softmax')\n",
    "])\n",
    "\n",
    "model_3.compile(loss = tf.keras.losses.SparseCategoricalCrossentropy(),\n",
    "               optimizer = tf.keras.optimizers.Adam(),\n",
    "               metrics= ['accuracy'])\n",
    "\n",
    "lr_scheduler = tf.keras.callbacks.LearningRateScheduler(lambda x: 1e-3 * 10**(x/20))\n",
    "\n",
    "history_3 = model_3.fit(x_train_norm, y_train, epochs= 40, callbacks= [lr_scheduler], validation_data=(x_val_norm, y_val))"
   ]
  },
  {
   "cell_type": "code",
   "execution_count": null,
   "id": "84e7bc28",
   "metadata": {},
   "outputs": [],
   "source": []
  },
  {
   "cell_type": "code",
   "execution_count": 94,
   "id": "f0931d25",
   "metadata": {},
   "outputs": [
    {
     "data": {
      "image/png": "[encoded data removed]",
      "text/plain": [
       "<Figure size 432x288 with 1 Axes>"
      ]
     },
     "metadata": {
      "needs_background": "light"
     },
     "output_type": "display_data"
    }
   ],
   "source": [
    "# Plot learning rate decay curve\n",
    "\n",
    "lrs = 1e-3 * 10**(tf.range(40)/20)\n",
    "\n",
    "plt.plot(lrs.numpy(), history_3.history['loss'])\n",
    "plt.ylabel('Loss')\n",
    "plt.xlabel('Learning rate')\n",
    "plt.show()"
   ]
  },
  {
   "cell_type": "code",
   "execution_count": null,
   "id": "0fba2ad8",
   "metadata": {},
   "outputs": [],
   "source": []
  }
 ],
 "metadata": {
  "kernelspec": {
   "display_name": "Python 3",
   "language": "python",
   "name": "python3"
  },
  "language_info": {
   "codemirror_mode": {
    "name": "ipython",
    "version": 3
   },
   "file_extension": ".py",
   "mimetype": "text/x-python",
   "name": "python",
   "nbconvert_exporter": "python",
   "pygments_lexer": "ipython3",
   "version": "3.9.5"
  }
 },
 "nbformat": 4,
 "nbformat_minor": 5
}
