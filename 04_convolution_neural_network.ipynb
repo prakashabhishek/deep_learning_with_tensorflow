{
 "cells": [
  {
   "cell_type": "code",
   "execution_count": 1,
   "id": "66713507",
   "metadata": {},
   "outputs": [
    {
     "name": "stdout",
     "output_type": "stream",
     "text": [
      "INFO:tensorflow:Enabling eager execution\n",
      "INFO:tensorflow:Enabling v2 tensorshape\n",
      "INFO:tensorflow:Enabling resource variables\n",
      "INFO:tensorflow:Enabling tensor equality\n",
      "INFO:tensorflow:Enabling control flow v2\n",
      "2.5.0-rc2\n"
     ]
    }
   ],
   "source": [
    "import os\n",
    "import numpy as np\n",
    "import pandas as pd\n",
    "\n",
    "import tensorflow as tf\n",
    "print(tf.__version__)\n",
    "\n",
    "from sklearn.model_selection import train_test_split\n",
    "\n",
    "import matplotlib.pyplot as plt"
   ]
  },
  {
   "cell_type": "markdown",
   "id": "9239896d",
   "metadata": {},
   "source": [
    "### Basic architecture of a CNN\n",
    "\n",
    "| Hyperparameter/Layer type | Description |\n",
    "|:-------------------------:|-------------|\n",
    "|   Input image(s)          | Images for discovering pattern |\n",
    "|   Input layer             | Takes in target image and preprocess them for further layers     |\n",
    "|   Convolution layer       | Extracts/Learns most importand patterns from images    |\n",
    "|   Hidden activation       | Adds non-linearity to learned features       |\n",
    "|   Pooling layer           | Reduces the dimensionality of learned image features        |\n",
    "|   Fully connected layer   | Further refines learned features from convolution layers      |\n",
    "|   Output layer            | Takes learned features and outputs them in shape of target labels       |\n",
    "|   Output activation       | Adds non-linearity to output layer      |\n",
    "\n",
    "\n",
    "\n",
    "_It's typically a stack of convolution layer and pooling layers_\n",
    "\n",
    "\n",
    "For this exercise we are using dataset available at [pizza_steak](https://storage.googleapis.com/ztm_tf_course/food_vision/pizza_steak.zip)"
   ]
  },
  {
   "cell_type": "markdown",
   "id": "5c6660bf",
   "metadata": {},
   "source": []
  },
  {
   "cell_type": "code",
   "execution_count": null,
   "id": "8aeed350",
   "metadata": {},
   "outputs": [],
   "source": []
  },
  {
   "cell_type": "code",
   "execution_count": null,
   "id": "6d1352f1",
   "metadata": {},
   "outputs": [],
   "source": []
  }
 ],
 "metadata": {
  "kernelspec": {
   "display_name": "Python 3",
   "language": "python",
   "name": "python3"
  },
  "language_info": {
   "codemirror_mode": {
    "name": "ipython",
    "version": 3
   },
   "file_extension": ".py",
   "mimetype": "text/x-python",
   "name": "python",
   "nbconvert_exporter": "python",
   "pygments_lexer": "ipython3",
   "version": "3.9.5"
  }
 },
 "nbformat": 4,
 "nbformat_minor": 5
}
